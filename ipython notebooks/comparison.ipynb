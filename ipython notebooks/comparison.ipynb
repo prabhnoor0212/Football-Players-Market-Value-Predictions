{
 "cells": [
  {
   "cell_type": "code",
   "execution_count": 1,
   "metadata": {},
   "outputs": [],
   "source": [
    "import pandas as pd\n",
    "import matplotlib.pyplot as plt\n",
    "import seaborn as sns\n",
    "import numpy as np\n",
    "%matplotlib inline"
   ]
  },
  {
   "cell_type": "code",
   "execution_count": null,
   "metadata": {},
   "outputs": [],
   "source": []
  },
  {
   "cell_type": "code",
   "execution_count": 2,
   "metadata": {},
   "outputs": [],
   "source": [
    "selected_df = pd.read_csv('selected.csv')"
   ]
  },
  {
   "cell_type": "code",
   "execution_count": 3,
   "metadata": {},
   "outputs": [
    {
     "data": {
      "text/plain": [
       "Index(['Unnamed: 0', 'Name', 'Position', 'Wiki_Views', 'PreviousValue',\n",
       "       'Club_Cat', 'TotalGoals', 'TotalAssists', 'TotalMinsClub',\n",
       "       'FantasyLeagueVal', 'F_Rating', 'F_Drib', 'F_Passing', 'CurrentValue'],\n",
       "      dtype='object')"
      ]
     },
     "execution_count": 3,
     "metadata": {},
     "output_type": "execute_result"
    }
   ],
   "source": [
    "selected_df.columns"
   ]
  },
  {
   "cell_type": "code",
   "execution_count": 4,
   "metadata": {},
   "outputs": [],
   "source": [
    "position = pd.get_dummies(selected_df['Position'],drop_first=True)\n",
    "club = pd.get_dummies(selected_df['Club_Cat'],drop_first=True)"
   ]
  },
  {
   "cell_type": "code",
   "execution_count": 5,
   "metadata": {},
   "outputs": [],
   "source": [
    "X = selected_df.drop(['Name','CurrentValue','Position','Club_Cat'],axis=1)\n",
    "X = pd.concat([X,position,club],axis=1)\n",
    "y = selected_df['CurrentValue']"
   ]
  },
  {
   "cell_type": "code",
   "execution_count": 6,
   "metadata": {},
   "outputs": [
    {
     "data": {
      "text/plain": [
       "Index([      'Unnamed: 0',       'Wiki_Views',    'PreviousValue',\n",
       "             'TotalGoals',     'TotalAssists',    'TotalMinsClub',\n",
       "       'FantasyLeagueVal',         'F_Rating',           'F_Drib',\n",
       "              'F_Passing',               'CM',         'Defender',\n",
       "                 'Keeper',          'Striker',           'Winger',\n",
       "                        2,                  3,                  4],\n",
       "      dtype='object')"
      ]
     },
     "execution_count": 6,
     "metadata": {},
     "output_type": "execute_result"
    }
   ],
   "source": [
    "X.columns"
   ]
  },
  {
   "cell_type": "code",
   "execution_count": 7,
   "metadata": {},
   "outputs": [],
   "source": [
    "from sklearn.model_selection import cross_val_score\n",
    "from sklearn import metrics"
   ]
  },
  {
   "cell_type": "code",
   "execution_count": 8,
   "metadata": {},
   "outputs": [],
   "source": [
    "from sklearn.model_selection import KFold"
   ]
  },
  {
   "cell_type": "code",
   "execution_count": 9,
   "metadata": {},
   "outputs": [],
   "source": [
    "from sklearn.linear_model import Ridge"
   ]
  },
  {
   "cell_type": "markdown",
   "metadata": {},
   "source": [
    "# Excluding Crowdsourcing, Popularity and Previous Year Statistics"
   ]
  },
  {
   "cell_type": "code",
   "execution_count": 14,
   "metadata": {},
   "outputs": [],
   "source": [
    "X1 = X.drop(['Wiki_Views', 'PreviousValue', 'FantasyLeagueVal', 'F_Rating', 'F_Drib', 'F_Passing' ], axis=1)"
   ]
  },
  {
   "cell_type": "code",
   "execution_count": 15,
   "metadata": {},
   "outputs": [
    {
     "data": {
      "text/plain": [
       "Index([   'Unnamed: 0',    'TotalGoals',  'TotalAssists', 'TotalMinsClub',\n",
       "                  'CM',      'Defender',        'Keeper',       'Striker',\n",
       "              'Winger',               2,               3,               4],\n",
       "      dtype='object')"
      ]
     },
     "execution_count": 15,
     "metadata": {},
     "output_type": "execute_result"
    }
   ],
   "source": [
    "X1.columns"
   ]
  },
  {
   "cell_type": "code",
   "execution_count": 16,
   "metadata": {},
   "outputs": [
    {
     "name": "stdout",
     "output_type": "stream",
     "text": [
      "[0.73302623 0.68192827 0.24420491 0.45258838 0.45399397 0.4963272\n",
      " 0.34841527 0.5497361  0.67841856 0.57313421]\n",
      "0.521177310836278\n"
     ]
    }
   ],
   "source": [
    "shuffle = KFold(n_splits=10,shuffle=True)\n",
    "scores = cross_val_score(Ridge(), X1, y, cv=shuffle, scoring=\"r2\")\n",
    "print(scores)\n",
    "print(scores.mean())"
   ]
  },
  {
   "cell_type": "code",
   "execution_count": 17,
   "metadata": {},
   "outputs": [
    {
     "name": "stdout",
     "output_type": "stream",
     "text": [
      "0.46684739757918514 0.01\n"
     ]
    }
   ],
   "source": [
    "maxmean=0\n",
    "for alpha in [100,10,0,0.1,0.01,0.001]:\n",
    "    shuffle = KFold(n_splits=10,shuffle=True)\n",
    "    scores = cross_val_score(Ridge(), X1, y, cv=shuffle, scoring=\"r2\")\n",
    "    meansc = scores.mean()\n",
    "    if meansc > maxmean:\n",
    "        maxmean = meansc\n",
    "        alphamax = alpha\n",
    "print(maxmean,alphamax)"
   ]
  },
  {
   "cell_type": "code",
   "execution_count": 18,
   "metadata": {},
   "outputs": [
    {
     "name": "stdout",
     "output_type": "stream",
     "text": [
      "[0.71341934 0.44171158 0.2463768  0.3118506  0.53591815 0.57063299\n",
      " 0.63488142 0.49254622 0.15201482 0.59092038]\n",
      "0.46902723031306487\n"
     ]
    }
   ],
   "source": [
    "shuffle = KFold(n_splits=10,shuffle=True)\n",
    "scores = cross_val_score(Ridge(alpha=0.01), X1, y, cv=shuffle, scoring=\"r2\")\n",
    "print(scores)\n",
    "print(scores.mean())"
   ]
  },
  {
   "cell_type": "code",
   "execution_count": 19,
   "metadata": {},
   "outputs": [
    {
     "name": "stdout",
     "output_type": "stream",
     "text": [
      "[129.7876245  197.30951837 209.19933675  99.32745658 170.457501\n",
      " 119.40798215 544.43595729  81.32204301 144.04278086 154.01645018]\n",
      "13.061564592833301\n"
     ]
    }
   ],
   "source": [
    "shuffle = KFold(n_splits=10,shuffle=True)\n",
    "scores = cross_val_score(Ridge(alpha=0.01), X1, y, cv=shuffle, scoring=\"neg_mean_squared_error\")\n",
    "print(-scores)\n",
    "print(np.sqrt(-scores).mean())"
   ]
  },
  {
   "cell_type": "markdown",
   "metadata": {},
   "source": [
    "# Including popularity parameters"
   ]
  },
  {
   "cell_type": "code",
   "execution_count": 20,
   "metadata": {},
   "outputs": [
    {
     "name": "stdout",
     "output_type": "stream",
     "text": [
      "[0.29612084 0.74110978 0.25877346 0.5450637  0.7311459  0.73329037\n",
      " 0.58675066 0.78442977 0.58462021 0.42579384]\n",
      "0.5687098540634421\n",
      "0.5372369940288811 10\n",
      "[0.68153471 0.60873771 0.54678352 0.03868041 0.7801137  0.33808895\n",
      " 0.11879213 0.89448004 0.25635091 0.53085837]\n",
      "0.479442044224888\n",
      "[148.87564112  72.37729434 124.76215493  99.67172836 115.46546878\n",
      " 117.46160812 140.98146602 449.26657272 160.78369793  76.21045259]\n",
      "11.79250548372142\n"
     ]
    }
   ],
   "source": [
    "X1 = X.drop(['PreviousValue', 'FantasyLeagueVal', 'F_Rating', 'F_Drib', 'F_Passing' ], axis=1)\n",
    "shuffle = KFold(n_splits=10,shuffle=True)\n",
    "scores = cross_val_score(Ridge(), X1, y, cv=shuffle, scoring=\"r2\")\n",
    "print(scores)\n",
    "print(scores.mean())\n",
    "maxmean=0\n",
    "for alpha in [100,10,0,0.1,0.01,0.001]:\n",
    "    shuffle = KFold(n_splits=10,shuffle=True)\n",
    "    scores = cross_val_score(Ridge(), X1, y, cv=shuffle, scoring=\"r2\")\n",
    "    meansc = scores.mean()\n",
    "    if meansc > maxmean:\n",
    "        maxmean = meansc\n",
    "        alphamax = alpha\n",
    "print(maxmean,alphamax)\n",
    "shuffle = KFold(n_splits=10,shuffle=True)\n",
    "scores = cross_val_score(Ridge(alpha=10), X1, y, cv=shuffle, scoring=\"r2\")\n",
    "print(scores)\n",
    "print(scores.mean())\n",
    "shuffle = KFold(n_splits=10,shuffle=True)\n",
    "scores = cross_val_score(Ridge(alpha=10), X1, y, cv=shuffle, scoring=\"neg_mean_squared_error\")\n",
    "print(-scores)\n",
    "print(np.sqrt(-scores).mean())"
   ]
  },
  {
   "cell_type": "markdown",
   "metadata": {},
   "source": [
    "# Including Crowdsourcing & popularity parameters"
   ]
  },
  {
   "cell_type": "code",
   "execution_count": 10,
   "metadata": {},
   "outputs": [
    {
     "name": "stdout",
     "output_type": "stream",
     "text": [
      "[0.32069416 0.70699036 0.75427392 0.56794824 0.57055829 0.34445143\n",
      " 0.68930746 0.71494793 0.36991685 0.51467779]\n",
      "0.5553766433521278\n",
      "0.632460407661392 0.01\n",
      "[ 0.53155262  0.66671484  0.6474134  -0.35558272  0.56646365  0.22961415\n",
      "  0.51302534  0.64464126  0.88621205  0.63830946]\n",
      "0.4968364056270479\n",
      "[ 98.51248241  89.88711507  96.57581215 115.03849842  35.08464067\n",
      "  67.40676675 129.92350908  46.8369719  162.53147571 660.46181586]\n",
      "11.078290639982496\n"
     ]
    }
   ],
   "source": [
    "X1 = X.drop([ 'PreviousValue'], axis=1)\n",
    "shuffle = KFold(n_splits=10,shuffle=True)\n",
    "scores = cross_val_score(Ridge(), X1, y, cv=shuffle, scoring=\"r2\")\n",
    "print(scores)\n",
    "print(scores.mean())\n",
    "maxmean=0\n",
    "for alpha in [100,10,0,0.1,0.01,0.001]:\n",
    "    shuffle = KFold(n_splits=10,shuffle=True)\n",
    "    scores = cross_val_score(Ridge(), X1, y, cv=shuffle, scoring=\"r2\")\n",
    "    meansc = scores.mean()\n",
    "    if meansc > maxmean:\n",
    "        maxmean = meansc\n",
    "        alphamax = alpha\n",
    "print(maxmean,alphamax)\n",
    "shuffle = KFold(n_splits=10,shuffle=True)\n",
    "scores = cross_val_score(Ridge(alpha=0.01), X1, y, cv=shuffle, scoring=\"r2\")\n",
    "print(scores)\n",
    "print(scores.mean())\n",
    "shuffle = KFold(n_splits=10,shuffle=True)\n",
    "scores = cross_val_score(Ridge(alpha=0.01), X1, y, cv=shuffle, scoring=\"neg_mean_squared_error\")\n",
    "print(-scores)\n",
    "print(np.sqrt(-scores).mean())"
   ]
  },
  {
   "cell_type": "markdown",
   "metadata": {},
   "source": [
    "# Including Crowdsourcing, Popularity and Previous Year Statistics"
   ]
  },
  {
   "cell_type": "code",
   "execution_count": 11,
   "metadata": {},
   "outputs": [
    {
     "name": "stdout",
     "output_type": "stream",
     "text": [
      "[0.93276238 0.92177207 0.75675913 0.94958228 0.72680355 0.91210579\n",
      " 0.88179833 0.9169762  0.79261888 0.92526188]\n",
      "0.8716440499065026\n",
      "0.8865696977019502 0.01\n",
      "[0.79896957 0.92670373 0.94116489 0.91510616 0.757929   0.91335679\n",
      " 0.78288433 0.83317333 0.91392143 0.89468515]\n",
      "0.8677894388292324\n",
      "[ 13.73524997 120.24656507  31.70343207  12.44692479  98.53837276\n",
      "  62.06987099  24.80510332  19.88680127   9.85086288  16.13102541]\n",
      "5.823038979646765\n"
     ]
    }
   ],
   "source": [
    "X1 = X\n",
    "shuffle = KFold(n_splits=10,shuffle=True)\n",
    "scores = cross_val_score(Ridge(), X1, y, cv=shuffle, scoring=\"r2\")\n",
    "print(scores)\n",
    "print(scores.mean())\n",
    "maxmean=0\n",
    "for alpha in [100,10,0,0.1,0.01,0.001]:\n",
    "    shuffle = KFold(n_splits=10,shuffle=True)\n",
    "    scores = cross_val_score(Ridge(), X1, y, cv=shuffle, scoring=\"r2\")\n",
    "    meansc = scores.mean()\n",
    "    if meansc > maxmean:\n",
    "        maxmean = meansc\n",
    "        alphamax = alpha\n",
    "print(maxmean,alphamax)\n",
    "shuffle = KFold(n_splits=10,shuffle=True)\n",
    "scores = cross_val_score(Ridge(alpha=10), X1, y, cv=shuffle, scoring=\"r2\")\n",
    "print(scores)\n",
    "print(scores.mean())\n",
    "shuffle = KFold(n_splits=10,shuffle=True)\n",
    "scores = cross_val_score(Ridge(alpha=10), X1, y, cv=shuffle, scoring=\"neg_mean_squared_error\")\n",
    "print(-scores)\n",
    "print(np.sqrt(-scores).mean())"
   ]
  },
  {
   "cell_type": "code",
   "execution_count": 12,
   "metadata": {},
   "outputs": [],
   "source": [
    "import numpy as np\n",
    "import matplotlib.pyplot as plt\n",
    "import seaborn as sns\n",
    "from sklearn.model_selection import cross_val_predict\n",
    "from sklearn.metrics import r2_score\n",
    "from sklearn import linear_model\n",
    "from sklearn import datasets\n",
    "from scipy.integrate import simps"
   ]
  },
  {
   "cell_type": "code",
   "execution_count": 13,
   "metadata": {},
   "outputs": [],
   "source": [
    "y_pred = cross_val_predict(Ridge(alpha=10),X1,y,cv=shuffle)"
   ]
  },
  {
   "cell_type": "code",
   "execution_count": 14,
   "metadata": {},
   "outputs": [],
   "source": [
    "# SOURCE : https://github.com/amirhessam88/Regression-Error-Characteristic-Curve/blob/master/REC.ipynb\n",
    "def REC(y_true , y_pred):\n",
    "    \n",
    "    # initilizing the lists\n",
    "    Accuracy = []\n",
    "    \n",
    "    # initializing the values for Epsilon\n",
    "    Begin_Range = 0\n",
    "    End_Range = 1.5\n",
    "    Interval_Size = 0.01\n",
    "    \n",
    "    # List of epsilons\n",
    "    Epsilon = np.arange(Begin_Range , End_Range , Interval_Size)\n",
    "    \n",
    "    # Main Loops\n",
    "    for i in range(len(Epsilon)):\n",
    "        count = 0.0\n",
    "        for j in range(len(y_true)):\n",
    "            if np.linalg.norm(y_true[j] - y_pred[j]) / np.sqrt( np.linalg.norm(y_true[j]) **2 + np.linalg.norm(y_pred[j])**2 ) < Epsilon[i]:\n",
    "                count = count + 1\n",
    "        \n",
    "        Accuracy.append(count/len(y_true))\n",
    "    \n",
    "    # Calculating Area Under Curve using Simpson's rule\n",
    "    AUC = simps(Accuracy , Epsilon ) / End_Range\n",
    "        \n",
    "    # returning epsilon , accuracy , area under curve    \n",
    "    return Epsilon , Accuracy , AUC"
   ]
  },
  {
   "cell_type": "code",
   "execution_count": 15,
   "metadata": {},
   "outputs": [],
   "source": [
    "# finding the deviation and accuracy, and area under curve for plotting\n",
    "Deviation , Accuracy, AUC = REC(y , y_pred)"
   ]
  },
  {
   "cell_type": "code",
   "execution_count": 16,
   "metadata": {},
   "outputs": [],
   "source": [
    "# Calculating R^2 of the true and predicted values\n",
    "RR = r2_score(y , y_pred)"
   ]
  },
  {
   "cell_type": "code",
   "execution_count": 18,
   "metadata": {},
   "outputs": [],
   "source": [
    "y_true = y"
   ]
  },
  {
   "cell_type": "code",
   "execution_count": 21,
   "metadata": {},
   "outputs": [
    {
     "data": {
      "image/png": "[encoded data removed]",
      "text/plain": [
       "<Figure size 720x288 with 2 Axes>"
      ]
     },
     "metadata": {
      "needs_background": "light"
     },
     "output_type": "display_data"
    }
   ],
   "source": [
    "#https://github.com/amirhessam88/Regression-Error-Characteristic-Curve/blob/master/REC.ipynb\n",
    "# Plotting\n",
    "plt.figure(figsize=(10 , 4))\n",
    "\n",
    "plt.subplot(1, 2, 1)\n",
    "plt.scatter(y_true, y_pred,color = \"darkorange\")\n",
    "plt.xlabel(\"Measured\")\n",
    "plt.ylabel(\"Predicted\")\n",
    "plt.plot([y_true.min(), y_true.max()], [y_true.min(), y_true.max()], 'k--', lw=4)\n",
    "plt.text(45, -5, r\"$R^2 = %0.4f$\" %RR , fontsize=15)\n",
    "\n",
    "\n",
    "plt.subplot(1, 2, 2)\n",
    "plt.title(\"Regression Error Characteristic (REC)\")\n",
    "plt.plot(Deviation, Accuracy, \"--b\",lw =3)\n",
    "plt.xlabel(\"Deviation\")\n",
    "plt.ylabel(\"Accuracy (%)\")\n",
    "plt.text(1.1, 0.07, \"AUC = %0.4f\" %AUC , fontsize=15)\n",
    "\n",
    "\n",
    "plt.show()"
   ]
  },
  {
   "cell_type": "code",
   "execution_count": null,
   "metadata": {},
   "outputs": [],
   "source": []
  }
 ],
 "metadata": {
  "kernelspec": {
   "display_name": "Python 3",
   "language": "python",
   "name": "python3"
  },
  "language_info": {
   "codemirror_mode": {
    "name": "ipython",
    "version": 3
   },
   "file_extension": ".py",
   "mimetype": "text/x-python",
   "name": "python",
   "nbconvert_exporter": "python",
   "pygments_lexer": "ipython3",
   "version": "3.7.0"
  }
 },
 "nbformat": 4,
 "nbformat_minor": 2
}
