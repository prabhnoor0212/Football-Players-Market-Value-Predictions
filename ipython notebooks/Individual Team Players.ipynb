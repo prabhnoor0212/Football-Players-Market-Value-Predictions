{
 "cells": [
  {
   "cell_type": "code",
   "execution_count": 1,
   "metadata": {
    "collapsed": true
   },
   "outputs": [],
   "source": [
    "from bs4 import BeautifulSoup"
   ]
  },
  {
   "cell_type": "code",
   "execution_count": 2,
   "metadata": {
    "collapsed": true
   },
   "outputs": [],
   "source": [
    "import pandas as pd\n",
    "import numpy as np"
   ]
  },
  {
   "cell_type": "code",
   "execution_count": 3,
   "metadata": {
    "collapsed": true
   },
   "outputs": [],
   "source": [
    "import requests"
   ]
  },
  {
   "cell_type": "code",
   "execution_count": 6,
   "metadata": {},
   "outputs": [],
   "source": [
    "url = 'https://www.fantasy-liga.com/en/team-profile/Barcelona/4'\n",
    "r = requests.get(url)"
   ]
  },
  {
   "cell_type": "code",
   "execution_count": 7,
   "metadata": {},
   "outputs": [
    {
     "data": {
      "text/plain": [
       "'\\n<!DOCTYPE html PUBLIC \"-//W3C//DTD XHTML 1.0 Transitional//EN\" \"http://www.w3.org/TR/xhtml1/DTD/xhtml1-transitional.dtd\">\\n<html xmlns=\"http://www.w3.org/1999/xhtml\">\\n\\n<head>\\n<title>Fantasy Liga -  profile, fixtures and statistics</title>\\n<meta http-equiv=\"Content-Type\" content=\"text/html; charset=utf-8\" />\\n<meta name=\"description\" content=\" profile, statistics, best players and fixtures\">\\n<meta name=\"robots\" content=\"noodp\">\\n<link href=\"//www.fantasy-liga.com/css/mainstyle2015_1.css\" rel=\"style'"
      ]
     },
     "execution_count": 7,
     "metadata": {},
     "output_type": "execute_result"
    }
   ],
   "source": [
    "r.text[0:500]"
   ]
  },
  {
   "cell_type": "code",
   "execution_count": 8,
   "metadata": {
    "collapsed": true
   },
   "outputs": [],
   "source": [
    "soup = BeautifulSoup(r.text,'html.parser')"
   ]
  },
  {
   "cell_type": "code",
   "execution_count": 10,
   "metadata": {},
   "outputs": [],
   "source": [
    "res = soup.find_all('table',attrs={'class':'tablesorter'})"
   ]
  },
  {
   "cell_type": "code",
   "execution_count": 17,
   "metadata": {},
   "outputs": [],
   "source": [
    "fr = res[0]"
   ]
  },
  {
   "cell_type": "code",
   "execution_count": 58,
   "metadata": {},
   "outputs": [],
   "source": [
    "results = fr.find_all('tr')"
   ]
  },
  {
   "cell_type": "code",
   "execution_count": 137,
   "metadata": {
    "collapsed": true
   },
   "outputs": [],
   "source": [
    "results = results[1:]"
   ]
  },
  {
   "cell_type": "code",
   "execution_count": 138,
   "metadata": {},
   "outputs": [],
   "source": [
    "first_res = results[0]"
   ]
  },
  {
   "cell_type": "code",
   "execution_count": 139,
   "metadata": {},
   "outputs": [
    {
     "data": {
      "text/plain": [
       "'Marc-Andre ter Stegen'"
      ]
     },
     "execution_count": 139,
     "metadata": {},
     "output_type": "execute_result"
    }
   ],
   "source": [
    "name = first_res.select('td')[3].text\n",
    "name"
   ]
  },
  {
   "cell_type": "code",
   "execution_count": 140,
   "metadata": {},
   "outputs": [
    {
     "data": {
      "text/plain": [
       "17.0"
      ]
     },
     "execution_count": 140,
     "metadata": {},
     "output_type": "execute_result"
    }
   ],
   "source": [
    "val = float(first_res.select('td')[4].text)\n",
    "val"
   ]
  },
  {
   "cell_type": "code",
   "execution_count": 141,
   "metadata": {},
   "outputs": [
    {
     "data": {
      "text/plain": [
       "1620.0"
      ]
     },
     "execution_count": 141,
     "metadata": {},
     "output_type": "execute_result"
    }
   ],
   "source": [
    "min = float(first_res.select('td')[5].text)\n",
    "min"
   ]
  },
  {
   "cell_type": "code",
   "execution_count": 142,
   "metadata": {},
   "outputs": [
    {
     "data": {
      "text/plain": [
       "18.0"
      ]
     },
     "execution_count": 142,
     "metadata": {},
     "output_type": "execute_result"
    }
   ],
   "source": [
    "starts = float(first_res.select('td')[6].text)\n",
    "starts"
   ]
  },
  {
   "cell_type": "code",
   "execution_count": 143,
   "metadata": {},
   "outputs": [
    {
     "data": {
      "text/plain": [
       "0.0"
      ]
     },
     "execution_count": 143,
     "metadata": {},
     "output_type": "execute_result"
    }
   ],
   "source": [
    "goals = float(first_res.select('td')[8].text)\n",
    "goals"
   ]
  },
  {
   "cell_type": "code",
   "execution_count": 144,
   "metadata": {},
   "outputs": [
    {
     "data": {
      "text/plain": [
       "0.0"
      ]
     },
     "execution_count": 144,
     "metadata": {},
     "output_type": "execute_result"
    }
   ],
   "source": [
    "assists = float(first_res.select('td')[13].text)\n",
    "assists"
   ]
  },
  {
   "cell_type": "code",
   "execution_count": 145,
   "metadata": {},
   "outputs": [
    {
     "data": {
      "text/plain": [
       "12.0"
      ]
     },
     "execution_count": 145,
     "metadata": {},
     "output_type": "execute_result"
    }
   ],
   "source": [
    "clean_sheet = float(first_res.select('td')[17].text)\n",
    "clean_sheet"
   ]
  },
  {
   "cell_type": "code",
   "execution_count": 136,
   "metadata": {},
   "outputs": [
    {
     "data": {
      "text/plain": [
       "99.0"
      ]
     },
     "execution_count": 136,
     "metadata": {},
     "output_type": "execute_result"
    }
   ],
   "source": [
    "points = float(first_res.select('td')[18].text)\n",
    "points"
   ]
  },
  {
   "cell_type": "code",
   "execution_count": 146,
   "metadata": {
    "collapsed": true
   },
   "outputs": [],
   "source": [
    "url = 'https://www.fantasy-liga.com/en/team-profile/Barcelona/4'\n",
    "r = requests.get(url)\n",
    "soup = BeautifulSoup(r.text,'html.parser')\n",
    "res = soup.find_all('table',attrs={'class':'tablesorter'})\n",
    "fr = res[0]\n",
    "results = fr.find_all('tr')\n",
    "results = results[1:]\n",
    "records = []\n",
    "for r in results:\n",
    "    name = r.select('td')[3].text\n",
    "    val = float(r.select('td')[4].text)\n",
    "    mins = float(r.select('td')[5].text)\n",
    "    starts = float(r.select('td')[6].text)\n",
    "    goals = float(r.select('td')[8].text)\n",
    "    assists = float(r.select('td')[13].text)\n",
    "    clean_sheet = float(r.select('td')[17].text)\n",
    "    points = float(r.select('td')[18].text)\n",
    "    records.append((name,val,mins,starts,goals,assists,clean_sheet,points))"
   ]
  },
  {
   "cell_type": "code",
   "execution_count": 147,
   "metadata": {},
   "outputs": [
    {
     "data": {
      "text/plain": [
       "[('Marc-Andre ter Stegen', 17.0, 1620.0, 18.0, 0.0, 0.0, 12.0, 99.0),\n",
       " ('Jasper Cillessen', 2.0, 0.0, 0.0, 0.0, 0.0, 0.0, 0.0),\n",
       " ('Adria Ortola', 2.0, 0.0, 0.0, 0.0, 0.0, 0.0, 0.0),\n",
       " ('Jordi Alba', 13.0, 1428.0, 16.0, 1.0, 6.0, 11.0, 99.0),\n",
       " ('Gerard Pique', 7.8, 1170.0, 13.0, 1.0, 0.0, 8.0, 61.0),\n",
       " ('Sergi Roberto', 10.5, 1130.0, 12.0, 1.0, 6.0, 10.0, 90.0),\n",
       " ('Samuel Umtiti', 5.5, 1062.0, 12.0, 0.0, 0.0, 7.0, 50.0),\n",
       " ('Nelson Semedo', 3.0, 621.0, 7.0, 0.0, 0.0, 3.0, 32.0),\n",
       " ('Javier Mascherano', 2.7, 541.0, 6.0, 0.0, 0.0, 5.0, 34.0),\n",
       " ('Thomas Vermaelen', 3.5, 468.0, 5.0, 0.0, 0.0, 4.0, 25.0),\n",
       " ('Aleix Vidal', 2.5, 347.0, 3.0, 1.0, 1.0, 4.0, 38.0),\n",
       " ('Lucas Digne', 2.0, 192.0, 2.0, 0.0, 1.0, 1.0, 13.0),\n",
       " ('Marc Cucurella', 2.0, 0.0, 0.0, 0.0, 0.0, 0.0, 0.0),\n",
       " ('David Costas', 2.0, 0.0, 0.0, 0.0, 0.0, 0.0, 0.0),\n",
       " ('Ivan Rakitic', 15.0, 1452.0, 16.0, 0.0, 3.0, 12.0, 68.0),\n",
       " ('Sergio Busquets', 11.5, 1313.0, 15.0, 1.0, 2.0, 9.0, 58.0),\n",
       " ('Andres Iniesta', 6.5, 1041.0, 14.0, 1.0, 0.0, 9.0, 55.0),\n",
       " ('Paulinho', 9.0, 922.0, 10.0, 7.0, 2.0, 7.0, 81.0),\n",
       " ('Denis Suarez', 2.5, 383.0, 3.0, 2.0, 2.0, 2.0, 35.0),\n",
       " ('Andre Gomes', 3.0, 259.0, 2.0, 0.0, 0.0, 1.0, 13.0),\n",
       " ('Ousmane Dembele', 3.5, 118.0, 2.0, 0.0, 1.0, 1.0, 10.0),\n",
       " ('Oriol Busquets', 2.0, 0.0, 0.0, 0.0, 0.0, 0.0, 0.0),\n",
       " ('Carles Alena', 2.0, 0.0, 0.0, 0.0, 0.0, 0.0, 0.0),\n",
       " ('Rafinha', 2.0, 0.0, 0.0, 0.0, 0.0, 0.0, 0.0),\n",
       " ('Arda Turan', 2.0, 0.0, 0.0, 0.0, 0.0, 0.0, 0.0),\n",
       " ('Philippe Coutinho', 4.5, 0.0, 0.0, 0.0, 0.0, 0.0, 0.0),\n",
       " ('Lionel Messi', 30.0, 1620.0, 18.0, 14.0, 7.0, 0.0, 127.0),\n",
       " ('Luis Suarez', 24.0, 1342.0, 15.0, 11.0, 1.0, 0.0, 85.0),\n",
       " ('Gerard Deulofeu', 2.0, 494.0, 5.0, 1.0, 1.0, 0.0, 26.0),\n",
       " ('Paco Alcacer', 2.0, 336.0, 4.0, 2.0, 2.0, 0.0, 29.0),\n",
       " ('Jose Arnaiz', 2.0, 5.0, 0.0, 0.0, 0.0, 0.0, 1.0)]"
      ]
     },
     "execution_count": 147,
     "metadata": {},
     "output_type": "execute_result"
    }
   ],
   "source": [
    "records"
   ]
  },
  {
   "cell_type": "code",
   "execution_count": 149,
   "metadata": {},
   "outputs": [],
   "source": [
    "df = pd.DataFrame(records,columns=['DecodedName','FantasyLeagueVal','C_Mins','C_Apps','C_Goals','C_Assists','C_Clean_Sheets','FantasyLeaguePoints'])"
   ]
  },
  {
   "cell_type": "code",
   "execution_count": 151,
   "metadata": {},
   "outputs": [],
   "source": [
    "df.to_csv('Barca.csv',index=False)"
   ]
  },
  {
   "cell_type": "code",
   "execution_count": 152,
   "metadata": {
    "collapsed": true
   },
   "outputs": [],
   "source": [
    "url = 'https://www.fantasy-liga.com/en/team-profile/Atletico-Madrid/3'\n",
    "r = requests.get(url)\n",
    "soup = BeautifulSoup(r.text,'html.parser')\n",
    "res = soup.find_all('table',attrs={'class':'tablesorter'})\n",
    "fr = res[0]\n",
    "results = fr.find_all('tr')\n",
    "results = results[1:]\n",
    "records = []\n",
    "for r in results:\n",
    "    name = r.select('td')[3].text\n",
    "    val = float(r.select('td')[4].text)\n",
    "    mins = float(r.select('td')[5].text)\n",
    "    starts = float(r.select('td')[6].text)\n",
    "    goals = float(r.select('td')[8].text)\n",
    "    assists = float(r.select('td')[13].text)\n",
    "    clean_sheet = float(r.select('td')[17].text)\n",
    "    points = float(r.select('td')[18].text)\n",
    "    records.append((name,val,mins,starts,goals,assists,clean_sheet,points))"
   ]
  },
  {
   "cell_type": "code",
   "execution_count": 153,
   "metadata": {},
   "outputs": [
    {
     "data": {
      "text/plain": [
       "[('Jan Oblak', 16.5, 1620.0, 18.0, 0.0, 0.0, 11.0, 91.0),\n",
       " ('Miguel Angel Moya', 2.0, 0.0, 0.0, 0.0, 0.0, 0.0, 0.0),\n",
       " ('Axel Werner', 2.0, 0.0, 0.0, 0.0, 0.0, 0.0, 0.0),\n",
       " ('Stefan Savic', 13.0, 1370.0, 15.0, 0.0, 0.0, 10.0, 64.0),\n",
       " ('Diego Godin', 15.3, 1350.0, 15.0, 0.0, 0.0, 9.0, 63.0),\n",
       " ('Filipe Luis', 13.2, 981.0, 11.0, 1.0, 1.0, 6.0, 55.0),\n",
       " ('Lucas Hernandez', 3.5, 822.0, 9.0, 0.0, 1.0, 7.0, 47.0),\n",
       " ('Juanfran', 2.1, 688.0, 8.0, 0.0, 0.0, 5.0, 31.0),\n",
       " ('Sime Vrsaljko', 3.5, 543.0, 6.0, 0.0, 3.0, 4.0, 35.0),\n",
       " ('Jose Gimenez', 2.0, 519.0, 5.0, 1.0, 0.0, 1.0, 26.0),\n",
       " ('Sergio Gonzalez', 2.0, 0.0, 0.0, 0.0, 0.0, 0.0, 0.0),\n",
       " ('Antonio Montoro', 2.0, 0.0, 0.0, 0.0, 0.0, 0.0, 0.0),\n",
       " ('Saul Niguez', 15.0, 1492.0, 17.0, 2.0, 2.0, 10.0, 65.0),\n",
       " ('Koke', 15.0, 1348.0, 15.0, 2.0, 2.0, 9.0, 61.0),\n",
       " ('Gabi', 13.2, 1346.0, 15.0, 0.0, 1.0, 10.0, 49.0),\n",
       " ('Thomas Partey', 8.0, 1171.0, 14.0, 2.0, 0.0, 9.0, 56.0),\n",
       " ('Vitolo', 3.5, 690.0, 8.0, 1.0, 0.0, 1.0, 24.0),\n",
       " ('Yannick Carrasco', 13.2, 666.0, 6.0, 3.0, 3.0, 4.0, 48.0),\n",
       " ('Nicolas Gaitan', 2.0, 216.0, 1.0, 0.0, 0.0, 1.0, 10.0),\n",
       " ('Augusto Fernandez', 2.0, 84.0, 1.0, 0.0, 0.0, 1.0, 6.0),\n",
       " ('Keidi Bare', 2.0, 0.0, 0.0, 0.0, 0.0, 0.0, 0.0),\n",
       " ('Roberto Olabe', 2.0, 0.0, 0.0, 0.0, 0.0, 0.0, 0.0),\n",
       " ('Antonio Moya', 2.0, 0.0, 0.0, 0.0, 0.0, 0.0, 0.0),\n",
       " ('Antoine Griezmann', 20.5, 1284.0, 15.0, 5.0, 4.0, 0.0, 65.0),\n",
       " ('Angel Correa', 9.5, 1106.0, 14.0, 5.0, 1.0, 0.0, 63.0),\n",
       " ('Kevin Gameiro', 9.8, 509.0, 6.0, 3.0, 1.0, 0.0, 37.0),\n",
       " ('Fernando Torres', 4.9, 344.0, 2.0, 1.0, 0.0, 0.0, 19.0),\n",
       " ('Diego Costa', 2.0, 90.0, 1.0, 1.0, 0.0, 0.0, 4.0),\n",
       " ('Alberto Rodenas', 2.0, 0.0, 0.0, 0.0, 0.0, 0.0, 0.0)]"
      ]
     },
     "execution_count": 153,
     "metadata": {},
     "output_type": "execute_result"
    }
   ],
   "source": [
    "records"
   ]
  },
  {
   "cell_type": "code",
   "execution_count": 154,
   "metadata": {
    "collapsed": true
   },
   "outputs": [],
   "source": [
    "df = pd.DataFrame(records,columns=['DecodedName','FantasyLeagueVal','C_Mins','C_Apps','C_Goals','C_Assists','C_Clean_Sheets','FantasyLeaguePoints'])"
   ]
  },
  {
   "cell_type": "code",
   "execution_count": 155,
   "metadata": {
    "collapsed": true
   },
   "outputs": [],
   "source": [
    "df.to_csv('Atletico.csv',index=False)"
   ]
  },
  {
   "cell_type": "code",
   "execution_count": 156,
   "metadata": {},
   "outputs": [
    {
     "data": {
      "text/plain": [
       "[('Pau Lopez', 7.0, 1620.0, 18.0, 0.0, 0.0, 6.0, 61.0),\n",
       " ('Diego Lopez', 2.0, 0.0, 0.0, 0.0, 0.0, 0.0, 0.0),\n",
       " ('Adrian Lopez', 2.0, 0.0, 0.0, 0.0, 0.0, 0.0, 0.0),\n",
       " ('Aaron Martin', 8.0, 1620.0, 18.0, 0.0, 0.0, 6.0, 54.0),\n",
       " ('Mario Hermoso', 5.0, 1350.0, 15.0, 0.0, 0.0, 6.0, 46.0),\n",
       " ('Naldo', 2.0, 315.0, 3.0, 0.0, 0.0, 0.0, 6.0),\n",
       " ('Javi Lopez', 2.5, 285.0, 4.0, 0.0, 0.0, 2.0, 15.0),\n",
       " ('Oscar Duarte', 2.0, 180.0, 2.0, 0.0, 0.0, 1.0, 8.0),\n",
       " ('Marc Navarro', 2.0, 170.0, 1.0, 0.0, 0.0, 2.0, 12.0),\n",
       " ('Sergio Sanchez', 2.0, 101.0, 1.0, 0.0, 0.0, 0.0, 2.0),\n",
       " ('Didac Vila', 2.0, 55.0, 0.0, 0.0, 0.0, 0.0, 3.0),\n",
       " ('David Lopez', 14.3, 1620.0, 18.0, 0.0, 0.0, 6.0, 42.0),\n",
       " ('Sergi Darder', 7.0, 1407.0, 16.0, 1.0, 0.0, 6.0, 46.0),\n",
       " ('Javi Fuego', 6.0, 1300.0, 16.0, 0.0, 0.0, 6.0, 38.0),\n",
       " ('Victor Sanchez', 4.5, 1075.0, 13.0, 0.0, 1.0, 4.0, 33.0),\n",
       " ('Pablo Piatti', 12.5, 1062.0, 14.0, 1.0, 2.0, 4.0, 50.0),\n",
       " ('Jose Manuel Jurado', 9.5, 1039.0, 13.0, 0.0, 2.0, 4.0, 41.0),\n",
       " ('Esteban Granero', 2.5, 328.0, 1.0, 0.0, 1.0, 0.0, 12.0),\n",
       " ('Oscar Melendo', 2.0, 126.0, 0.0, 0.0, 0.0, 0.0, 6.0),\n",
       " ('Marc Roca', 2.0, 100.0, 1.0, 0.0, 0.0, 0.0, 5.0),\n",
       " ('Gerard Moreno', 16.1, 1620.0, 18.0, 6.0, 0.0, 0.0, 67.0),\n",
       " ('Leo Baptistao', 7.5, 1333.0, 16.0, 3.0, 3.0, 0.0, 58.0),\n",
       " ('Sergio Garcia', 6.0, 711.0, 6.0, 1.0, 2.0, 0.0, 34.0),\n",
       " ('Hernan Perez', 2.2, 140.0, 1.0, 0.0, 0.0, 0.0, 4.0)]"
      ]
     },
     "execution_count": 156,
     "metadata": {},
     "output_type": "execute_result"
    }
   ],
   "source": [
    "url = 'https://www.fantasy-liga.com/en/team-profile/Espanyol/8'\n",
    "r = requests.get(url)\n",
    "soup = BeautifulSoup(r.text,'html.parser')\n",
    "res = soup.find_all('table',attrs={'class':'tablesorter'})\n",
    "fr = res[0]\n",
    "results = fr.find_all('tr')\n",
    "results = results[1:]\n",
    "records = []\n",
    "for r in results:\n",
    "    name = r.select('td')[3].text\n",
    "    val = float(r.select('td')[4].text)\n",
    "    mins = float(r.select('td')[5].text)\n",
    "    starts = float(r.select('td')[6].text)\n",
    "    goals = float(r.select('td')[8].text)\n",
    "    assists = float(r.select('td')[13].text)\n",
    "    clean_sheet = float(r.select('td')[17].text)\n",
    "    points = float(r.select('td')[18].text)\n",
    "    records.append((name,val,mins,starts,goals,assists,clean_sheet,points))\n",
    "    \n",
    "records"
   ]
  },
  {
   "cell_type": "code",
   "execution_count": 157,
   "metadata": {
    "collapsed": true
   },
   "outputs": [],
   "source": [
    "df = pd.DataFrame(records,columns=['DecodedName','FantasyLeagueVal','C_Mins','C_Apps','C_Goals','C_Assists','C_Clean_Sheets','FantasyLeaguePoints'])"
   ]
  },
  {
   "cell_type": "code",
   "execution_count": 159,
   "metadata": {},
   "outputs": [],
   "source": [
    "df.to_csv('espanyol.csv',index=False)"
   ]
  },
  {
   "cell_type": "code",
   "execution_count": 160,
   "metadata": {},
   "outputs": [
    {
     "data": {
      "text/plain": [
       "[('Geronimo Rulli', 9.5, 1530.0, 17.0, 0.0, 0.0, 2.0, 37.0),\n",
       " ('Tono Ramirez', 2.0, 0.0, 0.0, 0.0, 0.0, 0.0, 0.0),\n",
       " ('Alvaro Odriozola', 6.5, 1463.0, 16.0, 0.0, 4.0, 2.0, 50.0),\n",
       " ('Kevin Rodrigues', 4.5, 1092.0, 12.0, 1.0, 2.0, 2.0, 41.0),\n",
       " ('Diego Llorente', 3.5, 1070.0, 12.0, 2.0, 0.0, 1.0, 32.0),\n",
       " ('Inigo Martinez', 7.5, 876.0, 10.0, 1.0, 1.0, 0.0, 32.0),\n",
       " ('Aritz Elustondo', 2.0, 724.0, 8.0, 2.0, 1.0, 2.0, 38.0),\n",
       " ('Raul Navas', 2.5, 442.0, 5.0, 0.0, 1.0, 1.0, 16.0),\n",
       " ('Alberto de la Bella', 2.0, 360.0, 4.0, 0.0, 0.0, 1.0, 10.0),\n",
       " ('Andoni Gorosabel', 2.0, 67.0, 1.0, 0.0, 0.0, 0.0, 1.0),\n",
       " ('Carlos Martinez', 2.0, 0.0, 0.0, 0.0, 0.0, 0.0, 0.0),\n",
       " ('Asier Illarramendi', 9.5, 1440.0, 16.0, 3.0, 3.0, 2.0, 58.0),\n",
       " ('Xabi Prieto', 15.8, 1411.0, 17.0, 2.0, 3.0, 2.0, 60.0),\n",
       " ('David Zurutuza', 5.5, 1086.0, 13.0, 0.0, 0.0, 1.0, 31.0),\n",
       " ('Adnan Januzaj', 3.5, 669.0, 8.0, 2.0, 3.0, 0.0, 38.0),\n",
       " ('Igor Zubeldia', 2.0, 624.0, 6.0, 1.0, 0.0, 1.0, 19.0),\n",
       " ('Sergio Canales', 4.5, 504.0, 5.0, 0.0, 0.0, 0.0, 23.0),\n",
       " ('Ruben Pardo', 2.0, 21.0, 0.0, 0.0, 0.0, 0.0, 2.0),\n",
       " ('Ander Guevara', 2.0, 0.0, 0.0, 0.0, 0.0, 0.0, 0.0),\n",
       " ('Jon Guridi', 2.0, 0.0, 0.0, 0.0, 0.0, 0.0, 0.0),\n",
       " ('Willian Jose', 12.5, 1428.0, 17.0, 5.0, 1.0, 0.0, 67.0),\n",
       " ('Mikel Oyarzabal', 13.2, 1146.0, 13.0, 6.0, 3.0, 0.0, 62.0),\n",
       " ('Juanmi', 9.6, 507.0, 6.0, 3.0, 0.0, 0.0, 33.0),\n",
       " ('Jon Bautista', 2.0, 63.0, 0.0, 0.0, 0.0, 0.0, 4.0),\n",
       " ('Imanol Agirretxe', 2.0, 29.0, 0.0, 0.0, 0.0, 0.0, 3.0)]"
      ]
     },
     "execution_count": 160,
     "metadata": {},
     "output_type": "execute_result"
    }
   ],
   "source": [
    "url = 'https://www.fantasy-liga.com/en/team-profile/Real-Sociedad/17'\n",
    "r = requests.get(url)\n",
    "soup = BeautifulSoup(r.text,'html.parser')\n",
    "res = soup.find_all('table',attrs={'class':'tablesorter'})\n",
    "fr = res[0]\n",
    "results = fr.find_all('tr')\n",
    "results = results[1:]\n",
    "records = []\n",
    "for r in results:\n",
    "    name = r.select('td')[3].text\n",
    "    val = float(r.select('td')[4].text)\n",
    "    mins = float(r.select('td')[5].text)\n",
    "    starts = float(r.select('td')[6].text)\n",
    "    goals = float(r.select('td')[8].text)\n",
    "    assists = float(r.select('td')[13].text)\n",
    "    clean_sheet = float(r.select('td')[17].text)\n",
    "    points = float(r.select('td')[18].text)\n",
    "    records.append((name,val,mins,starts,goals,assists,clean_sheet,points))\n",
    "    \n",
    "records"
   ]
  },
  {
   "cell_type": "code",
   "execution_count": 163,
   "metadata": {},
   "outputs": [
    {
     "data": {
      "text/html": [
       "<div>\n",
       "<style>\n",
       "    .dataframe thead tr:only-child th {\n",
       "        text-align: right;\n",
       "    }\n",
       "\n",
       "    .dataframe thead th {\n",
       "        text-align: left;\n",
       "    }\n",
       "\n",
       "    .dataframe tbody tr th {\n",
       "        vertical-align: top;\n",
       "    }\n",
       "</style>\n",
       "<table border=\"1\" class=\"dataframe\">\n",
       "  <thead>\n",
       "    <tr style=\"text-align: right;\">\n",
       "      <th></th>\n",
       "      <th>DecodedName</th>\n",
       "      <th>FantasyLeagueVal</th>\n",
       "      <th>C_Mins</th>\n",
       "      <th>C_Apps</th>\n",
       "      <th>C_Goals</th>\n",
       "      <th>C_Assists</th>\n",
       "      <th>C_Clean_Sheets</th>\n",
       "      <th>FantasyLeaguePoints</th>\n",
       "    </tr>\n",
       "  </thead>\n",
       "  <tbody>\n",
       "    <tr>\n",
       "      <th>0</th>\n",
       "      <td>Geronimo Rulli</td>\n",
       "      <td>9.5</td>\n",
       "      <td>1530.0</td>\n",
       "      <td>17.0</td>\n",
       "      <td>0.0</td>\n",
       "      <td>0.0</td>\n",
       "      <td>2.0</td>\n",
       "      <td>37.0</td>\n",
       "    </tr>\n",
       "    <tr>\n",
       "      <th>1</th>\n",
       "      <td>Tono Ramirez</td>\n",
       "      <td>2.0</td>\n",
       "      <td>0.0</td>\n",
       "      <td>0.0</td>\n",
       "      <td>0.0</td>\n",
       "      <td>0.0</td>\n",
       "      <td>0.0</td>\n",
       "      <td>0.0</td>\n",
       "    </tr>\n",
       "    <tr>\n",
       "      <th>2</th>\n",
       "      <td>Alvaro Odriozola</td>\n",
       "      <td>6.5</td>\n",
       "      <td>1463.0</td>\n",
       "      <td>16.0</td>\n",
       "      <td>0.0</td>\n",
       "      <td>4.0</td>\n",
       "      <td>2.0</td>\n",
       "      <td>50.0</td>\n",
       "    </tr>\n",
       "    <tr>\n",
       "      <th>3</th>\n",
       "      <td>Kevin Rodrigues</td>\n",
       "      <td>4.5</td>\n",
       "      <td>1092.0</td>\n",
       "      <td>12.0</td>\n",
       "      <td>1.0</td>\n",
       "      <td>2.0</td>\n",
       "      <td>2.0</td>\n",
       "      <td>41.0</td>\n",
       "    </tr>\n",
       "    <tr>\n",
       "      <th>4</th>\n",
       "      <td>Diego Llorente</td>\n",
       "      <td>3.5</td>\n",
       "      <td>1070.0</td>\n",
       "      <td>12.0</td>\n",
       "      <td>2.0</td>\n",
       "      <td>0.0</td>\n",
       "      <td>1.0</td>\n",
       "      <td>32.0</td>\n",
       "    </tr>\n",
       "  </tbody>\n",
       "</table>\n",
       "</div>"
      ],
      "text/plain": [
       "        DecodedName  FantasyLeagueVal  C_Mins  C_Apps  C_Goals  C_Assists  \\\n",
       "0    Geronimo Rulli               9.5  1530.0    17.0      0.0        0.0   \n",
       "1      Tono Ramirez               2.0     0.0     0.0      0.0        0.0   \n",
       "2  Alvaro Odriozola               6.5  1463.0    16.0      0.0        4.0   \n",
       "3   Kevin Rodrigues               4.5  1092.0    12.0      1.0        2.0   \n",
       "4    Diego Llorente               3.5  1070.0    12.0      2.0        0.0   \n",
       "\n",
       "   C_Clean_Sheets  FantasyLeaguePoints  \n",
       "0             2.0                 37.0  \n",
       "1             0.0                  0.0  \n",
       "2             2.0                 50.0  \n",
       "3             2.0                 41.0  \n",
       "4             1.0                 32.0  "
      ]
     },
     "execution_count": 163,
     "metadata": {},
     "output_type": "execute_result"
    }
   ],
   "source": [
    "df = pd.DataFrame(records,columns=['DecodedName','FantasyLeagueVal','C_Mins','C_Apps','C_Goals','C_Assists','C_Clean_Sheets','FantasyLeaguePoints'])\n",
    "df.head()"
   ]
  },
  {
   "cell_type": "code",
   "execution_count": 164,
   "metadata": {},
   "outputs": [],
   "source": [
    "df.to_csv('sociedad.csv',index=False)"
   ]
  },
  {
   "cell_type": "code",
   "execution_count": 165,
   "metadata": {},
   "outputs": [
    {
     "data": {
      "text/plain": [
       "[('Kepa Arrizabalaga', 3.5, 1260.0, 14.0, 0.0, 0.0, 4.0, 40.0),\n",
       " ('Iago Herrerin', 3.5, 360.0, 4.0, 0.0, 0.0, 4.0, 27.0),\n",
       " ('Unai Simon', 2.0, 0.0, 0.0, 0.0, 0.0, 0.0, 0.0),\n",
       " ('Unai Nunez', 6.5, 1530.0, 17.0, 0.0, 0.0, 7.0, 52.0),\n",
       " ('Aymeric Laporte', 10.5, 1530.0, 17.0, 0.0, 0.0, 7.0, 51.0),\n",
       " ('Mikel Balenziaga', 8.1, 1058.0, 12.0, 0.0, 2.0, 5.0, 44.0),\n",
       " ('Inigo Lekue', 5.5, 1025.0, 10.0, 0.0, 0.0, 5.0, 41.0),\n",
       " ('Eneko Boveda', 2.0, 523.0, 6.0, 0.0, 1.0, 1.0, 17.0),\n",
       " ('Enric Saborit', 2.5, 472.0, 5.0, 0.0, 0.0, 3.0, 23.0),\n",
       " ('Oscar De Marcos', 3.5, 471.0, 7.0, 0.0, 0.0, 4.0, 28.0),\n",
       " ('Xabier Etxeita', 2.5, 180.0, 2.0, 1.0, 0.0, 2.0, 15.0),\n",
       " ('Yeray Alvarez', 2.0, 0.0, 0.0, 0.0, 0.0, 0.0, 0.0),\n",
       " ('Raul Garcia', 16.8, 1317.0, 15.0, 3.0, 1.0, 8.0, 65.0),\n",
       " ('Markel Susaeta', 6.5, 1092.0, 12.0, 1.0, 2.0, 6.0, 48.0),\n",
       " ('Mikel San Jose', 9.4, 1027.0, 12.0, 0.0, 0.0, 6.0, 32.0),\n",
       " ('Ander Iturraspe', 3.0, 843.0, 9.0, 0.0, 0.0, 2.0, 23.0),\n",
       " ('Mikel Vesga', 2.0, 630.0, 8.0, 1.0, 1.0, 2.0, 23.0),\n",
       " ('Inigo Cordoba', 3.5, 621.0, 8.0, 0.0, 0.0, 2.0, 24.0),\n",
       " ('Mikel Rico', 3.0, 575.0, 6.0, 0.0, 0.0, 4.0, 18.0),\n",
       " ('Benat Etxebarria', 2.6, 248.0, 2.0, 0.0, 0.0, 2.0, 12.0),\n",
       " ('Sabin Merino', 2.0, 72.0, 1.0, 0.0, 0.0, 0.0, 6.0),\n",
       " ('Ager Aketxe', 2.0, 34.0, 0.0, 0.0, 0.0, 0.0, 2.0),\n",
       " ('Oscar Gil', 2.0, 0.0, 0.0, 0.0, 0.0, 0.0, 0.0),\n",
       " ('Inigo Munoz', 2.0, 0.0, 0.0, 0.0, 0.0, 0.0, 0.0),\n",
       " ('Inaki Williams', 16.0, 1283.0, 14.0, 3.0, 3.0, 0.0, 57.0),\n",
       " ('Aritz Aduriz', 13.3, 1264.0, 13.0, 4.0, 1.0, 0.0, 57.0),\n",
       " ('Iker Muniain', 4.0, 405.0, 4.0, 1.0, 2.0, 0.0, 21.0),\n",
       " ('Kike Sola', 2.0, 0.0, 0.0, 0.0, 0.0, 0.0, 0.0)]"
      ]
     },
     "execution_count": 165,
     "metadata": {},
     "output_type": "execute_result"
    }
   ],
   "source": [
    "url = 'https://www.fantasy-liga.com/en/team-profile/Athletic-Bilbao/2'\n",
    "r = requests.get(url)\n",
    "soup = BeautifulSoup(r.text,'html.parser')\n",
    "res = soup.find_all('table',attrs={'class':'tablesorter'})\n",
    "fr = res[0]\n",
    "results = fr.find_all('tr')\n",
    "results = results[1:]\n",
    "records = []\n",
    "for r in results:\n",
    "    name = r.select('td')[3].text\n",
    "    val = float(r.select('td')[4].text)\n",
    "    mins = float(r.select('td')[5].text)\n",
    "    starts = float(r.select('td')[6].text)\n",
    "    goals = float(r.select('td')[8].text)\n",
    "    assists = float(r.select('td')[13].text)\n",
    "    clean_sheet = float(r.select('td')[17].text)\n",
    "    points = float(r.select('td')[18].text)\n",
    "    records.append((name,val,mins,starts,goals,assists,clean_sheet,points))\n",
    "    \n",
    "records"
   ]
  },
  {
   "cell_type": "code",
   "execution_count": 166,
   "metadata": {},
   "outputs": [
    {
     "data": {
      "text/html": [
       "<div>\n",
       "<style>\n",
       "    .dataframe thead tr:only-child th {\n",
       "        text-align: right;\n",
       "    }\n",
       "\n",
       "    .dataframe thead th {\n",
       "        text-align: left;\n",
       "    }\n",
       "\n",
       "    .dataframe tbody tr th {\n",
       "        vertical-align: top;\n",
       "    }\n",
       "</style>\n",
       "<table border=\"1\" class=\"dataframe\">\n",
       "  <thead>\n",
       "    <tr style=\"text-align: right;\">\n",
       "      <th></th>\n",
       "      <th>DecodedName</th>\n",
       "      <th>FantasyLeagueVal</th>\n",
       "      <th>C_Mins</th>\n",
       "      <th>C_Apps</th>\n",
       "      <th>C_Goals</th>\n",
       "      <th>C_Assists</th>\n",
       "      <th>C_Clean_Sheets</th>\n",
       "      <th>FantasyLeaguePoints</th>\n",
       "    </tr>\n",
       "  </thead>\n",
       "  <tbody>\n",
       "    <tr>\n",
       "      <th>0</th>\n",
       "      <td>Kepa Arrizabalaga</td>\n",
       "      <td>3.5</td>\n",
       "      <td>1260.0</td>\n",
       "      <td>14.0</td>\n",
       "      <td>0.0</td>\n",
       "      <td>0.0</td>\n",
       "      <td>4.0</td>\n",
       "      <td>40.0</td>\n",
       "    </tr>\n",
       "    <tr>\n",
       "      <th>1</th>\n",
       "      <td>Iago Herrerin</td>\n",
       "      <td>3.5</td>\n",
       "      <td>360.0</td>\n",
       "      <td>4.0</td>\n",
       "      <td>0.0</td>\n",
       "      <td>0.0</td>\n",
       "      <td>4.0</td>\n",
       "      <td>27.0</td>\n",
       "    </tr>\n",
       "    <tr>\n",
       "      <th>2</th>\n",
       "      <td>Unai Simon</td>\n",
       "      <td>2.0</td>\n",
       "      <td>0.0</td>\n",
       "      <td>0.0</td>\n",
       "      <td>0.0</td>\n",
       "      <td>0.0</td>\n",
       "      <td>0.0</td>\n",
       "      <td>0.0</td>\n",
       "    </tr>\n",
       "    <tr>\n",
       "      <th>3</th>\n",
       "      <td>Unai Nunez</td>\n",
       "      <td>6.5</td>\n",
       "      <td>1530.0</td>\n",
       "      <td>17.0</td>\n",
       "      <td>0.0</td>\n",
       "      <td>0.0</td>\n",
       "      <td>7.0</td>\n",
       "      <td>52.0</td>\n",
       "    </tr>\n",
       "    <tr>\n",
       "      <th>4</th>\n",
       "      <td>Aymeric Laporte</td>\n",
       "      <td>10.5</td>\n",
       "      <td>1530.0</td>\n",
       "      <td>17.0</td>\n",
       "      <td>0.0</td>\n",
       "      <td>0.0</td>\n",
       "      <td>7.0</td>\n",
       "      <td>51.0</td>\n",
       "    </tr>\n",
       "  </tbody>\n",
       "</table>\n",
       "</div>"
      ],
      "text/plain": [
       "         DecodedName  FantasyLeagueVal  C_Mins  C_Apps  C_Goals  C_Assists  \\\n",
       "0  Kepa Arrizabalaga               3.5  1260.0    14.0      0.0        0.0   \n",
       "1      Iago Herrerin               3.5   360.0     4.0      0.0        0.0   \n",
       "2         Unai Simon               2.0     0.0     0.0      0.0        0.0   \n",
       "3         Unai Nunez               6.5  1530.0    17.0      0.0        0.0   \n",
       "4    Aymeric Laporte              10.5  1530.0    17.0      0.0        0.0   \n",
       "\n",
       "   C_Clean_Sheets  FantasyLeaguePoints  \n",
       "0             4.0                 40.0  \n",
       "1             4.0                 27.0  \n",
       "2             0.0                  0.0  \n",
       "3             7.0                 52.0  \n",
       "4             7.0                 51.0  "
      ]
     },
     "execution_count": 166,
     "metadata": {},
     "output_type": "execute_result"
    }
   ],
   "source": [
    "df = pd.DataFrame(records,columns=['DecodedName','FantasyLeagueVal','C_Mins','C_Apps','C_Goals','C_Assists','C_Clean_Sheets','FantasyLeaguePoints'])\n",
    "df.head()"
   ]
  },
  {
   "cell_type": "code",
   "execution_count": 167,
   "metadata": {
    "collapsed": true
   },
   "outputs": [],
   "source": [
    "df.to_csv('bilbao.csv',index=False)"
   ]
  },
  {
   "cell_type": "code",
   "execution_count": 171,
   "metadata": {},
   "outputs": [
    {
     "data": {
      "text/plain": [
       "[('Neto', 8.0, 1530.0, 17.0, 0.0, 0.0, 6.0, 65.0),\n",
       " ('Jaume Domenech', 2.0, 90.0, 1.0, 0.0, 0.0, 0.0, 2.0),\n",
       " ('Cristian Rivero', 4.5, 0.0, 0.0, 0.0, 0.0, 0.0, 0.0),\n",
       " ('Jose Gaya', 7.0, 1380.0, 16.0, 0.0, 3.0, 5.0, 61.0),\n",
       " ('Martin Montoya', 6.0, 1245.0, 14.0, 0.0, 2.0, 5.0, 51.0),\n",
       " ('Gabriel', 5.5, 1182.0, 13.0, 0.0, 0.0, 4.0, 43.0),\n",
       " ('Ezequiel Garay', 3.5, 994.0, 11.0, 0.0, 0.0, 3.0, 36.0),\n",
       " ('Jeison Murillo', 2.0, 610.0, 7.0, 0.0, 0.0, 4.0, 29.0),\n",
       " ('Ruben Vezo', 2.0, 477.0, 5.0, 0.0, 0.0, 1.0, 17.0),\n",
       " ('Toni Lato', 2.0, 387.0, 4.0, 0.0, 1.0, 2.0, 23.0),\n",
       " ('Nacho Vidal', 2.0, 352.0, 4.0, 1.0, 0.0, 1.0, 20.0),\n",
       " ('Javi Jimenez', 2.0, 0.0, 0.0, 0.0, 0.0, 0.0, 0.0),\n",
       " ('Daniel Parejo', 13.9, 1513.0, 17.0, 1.0, 3.0, 6.0, 64.0),\n",
       " ('Geoffrey Kondogbia', 7.0, 1370.0, 16.0, 3.0, 1.0, 5.0, 56.0),\n",
       " ('Carlos Soler', 6.5, 1180.0, 14.0, 1.0, 4.0, 5.0, 59.0),\n",
       " ('Goncalo Guedes', 7.0, 985.0, 10.0, 3.0, 5.0, 3.0, 64.0),\n",
       " ('Andreas Pereira', 6.0, 864.0, 10.0, 1.0, 3.0, 2.0, 42.0),\n",
       " ('Nacho Gil', 2.0, 171.0, 1.0, 0.0, 0.0, 0.0, 6.0),\n",
       " ('Nemanja Maksimovic', 2.0, 49.0, 0.0, 0.0, 0.0, 0.0, 5.0),\n",
       " ('Rodrigo Moreno', 9.5, 1423.0, 17.0, 7.0, 3.0, 0.0, 82.0),\n",
       " ('Simone Zaza', 9.0, 1211.0, 14.0, 10.0, 0.0, 0.0, 70.0),\n",
       " ('Santi Mina', 7.0, 619.0, 5.0, 5.0, 1.0, 0.0, 50.0),\n",
       " ('Luciano Vietto', 2.0, 287.0, 4.0, 0.0, 0.0, 0.0, 12.0),\n",
       " ('Ferran Torres', 3.0, 9.0, 0.0, 0.0, 0.0, 0.0, 1.0)]"
      ]
     },
     "execution_count": 171,
     "metadata": {},
     "output_type": "execute_result"
    }
   ],
   "source": [
    "url = 'https://www.fantasy-liga.com/en/team-profile/Valencia/19'\n",
    "r = requests.get(url)\n",
    "soup = BeautifulSoup(r.text,'html.parser')\n",
    "res = soup.find_all('table',attrs={'class':'tablesorter'})\n",
    "fr = res[0]\n",
    "results = fr.find_all('tr')\n",
    "results = results[1:]\n",
    "records = []\n",
    "for r in results:\n",
    "    name = r.select('td')[3].text\n",
    "    val = float(r.select('td')[4].text)\n",
    "    mins = float(r.select('td')[5].text)\n",
    "    starts = float(r.select('td')[6].text)\n",
    "    goals = float(r.select('td')[8].text)\n",
    "    assists = float(r.select('td')[13].text)\n",
    "    clean_sheet = float(r.select('td')[17].text)\n",
    "    points = float(r.select('td')[18].text)\n",
    "    records.append((name,val,mins,starts,goals,assists,clean_sheet,points))\n",
    "    \n",
    "records\n"
   ]
  },
  {
   "cell_type": "code",
   "execution_count": 172,
   "metadata": {},
   "outputs": [
    {
     "data": {
      "text/html": [
       "<div>\n",
       "<style>\n",
       "    .dataframe thead tr:only-child th {\n",
       "        text-align: right;\n",
       "    }\n",
       "\n",
       "    .dataframe thead th {\n",
       "        text-align: left;\n",
       "    }\n",
       "\n",
       "    .dataframe tbody tr th {\n",
       "        vertical-align: top;\n",
       "    }\n",
       "</style>\n",
       "<table border=\"1\" class=\"dataframe\">\n",
       "  <thead>\n",
       "    <tr style=\"text-align: right;\">\n",
       "      <th></th>\n",
       "      <th>DecodedName</th>\n",
       "      <th>FantasyLeagueVal</th>\n",
       "      <th>C_Mins</th>\n",
       "      <th>C_Apps</th>\n",
       "      <th>C_Goals</th>\n",
       "      <th>C_Assists</th>\n",
       "      <th>C_Clean_Sheets</th>\n",
       "      <th>FantasyLeaguePoints</th>\n",
       "    </tr>\n",
       "  </thead>\n",
       "  <tbody>\n",
       "    <tr>\n",
       "      <th>0</th>\n",
       "      <td>Neto</td>\n",
       "      <td>8.0</td>\n",
       "      <td>1530.0</td>\n",
       "      <td>17.0</td>\n",
       "      <td>0.0</td>\n",
       "      <td>0.0</td>\n",
       "      <td>6.0</td>\n",
       "      <td>65.0</td>\n",
       "    </tr>\n",
       "    <tr>\n",
       "      <th>1</th>\n",
       "      <td>Jaume Domenech</td>\n",
       "      <td>2.0</td>\n",
       "      <td>90.0</td>\n",
       "      <td>1.0</td>\n",
       "      <td>0.0</td>\n",
       "      <td>0.0</td>\n",
       "      <td>0.0</td>\n",
       "      <td>2.0</td>\n",
       "    </tr>\n",
       "    <tr>\n",
       "      <th>2</th>\n",
       "      <td>Cristian Rivero</td>\n",
       "      <td>4.5</td>\n",
       "      <td>0.0</td>\n",
       "      <td>0.0</td>\n",
       "      <td>0.0</td>\n",
       "      <td>0.0</td>\n",
       "      <td>0.0</td>\n",
       "      <td>0.0</td>\n",
       "    </tr>\n",
       "    <tr>\n",
       "      <th>3</th>\n",
       "      <td>Jose Gaya</td>\n",
       "      <td>7.0</td>\n",
       "      <td>1380.0</td>\n",
       "      <td>16.0</td>\n",
       "      <td>0.0</td>\n",
       "      <td>3.0</td>\n",
       "      <td>5.0</td>\n",
       "      <td>61.0</td>\n",
       "    </tr>\n",
       "    <tr>\n",
       "      <th>4</th>\n",
       "      <td>Martin Montoya</td>\n",
       "      <td>6.0</td>\n",
       "      <td>1245.0</td>\n",
       "      <td>14.0</td>\n",
       "      <td>0.0</td>\n",
       "      <td>2.0</td>\n",
       "      <td>5.0</td>\n",
       "      <td>51.0</td>\n",
       "    </tr>\n",
       "  </tbody>\n",
       "</table>\n",
       "</div>"
      ],
      "text/plain": [
       "       DecodedName  FantasyLeagueVal  C_Mins  C_Apps  C_Goals  C_Assists  \\\n",
       "0             Neto               8.0  1530.0    17.0      0.0        0.0   \n",
       "1   Jaume Domenech               2.0    90.0     1.0      0.0        0.0   \n",
       "2  Cristian Rivero               4.5     0.0     0.0      0.0        0.0   \n",
       "3        Jose Gaya               7.0  1380.0    16.0      0.0        3.0   \n",
       "4   Martin Montoya               6.0  1245.0    14.0      0.0        2.0   \n",
       "\n",
       "   C_Clean_Sheets  FantasyLeaguePoints  \n",
       "0             6.0                 65.0  \n",
       "1             0.0                  2.0  \n",
       "2             0.0                  0.0  \n",
       "3             5.0                 61.0  \n",
       "4             5.0                 51.0  "
      ]
     },
     "execution_count": 172,
     "metadata": {},
     "output_type": "execute_result"
    }
   ],
   "source": [
    "df = pd.DataFrame(records,columns=['DecodedName','FantasyLeagueVal','C_Mins','C_Apps','C_Goals','C_Assists','C_Clean_Sheets','FantasyLeaguePoints'])\n",
    "df.head()"
   ]
  },
  {
   "cell_type": "code",
   "execution_count": 173,
   "metadata": {
    "collapsed": true
   },
   "outputs": [],
   "source": [
    "df.to_csv('valencia.csv')"
   ]
  },
  {
   "cell_type": "code",
   "execution_count": 174,
   "metadata": {},
   "outputs": [
    {
     "data": {
      "text/plain": [
       "[('Keylor Navas', 3.0, 900.0, 10.0, 0.0, 0.0, 4.0, 38.0),\n",
       " ('Kiko Casilla', 2.0, 630.0, 7.0, 0.0, 0.0, 3.0, 30.0),\n",
       " ('Moha Ramos', 2.0, 0.0, 0.0, 0.0, 0.0, 0.0, 0.0),\n",
       " ('Luca Zidane', 2.0, 0.0, 0.0, 0.0, 0.0, 0.0, 0.0),\n",
       " ('Marcelo', 11.5, 1129.0, 13.0, 1.0, 1.0, 5.0, 50.0),\n",
       " ('Sergio Ramos', 7.4, 1125.0, 13.0, 0.0, 1.0, 6.0, 45.0),\n",
       " ('Nacho', 7.0, 1015.0, 10.0, 1.0, 0.0, 6.0, 50.0),\n",
       " ('Raphael Varane', 3.5, 945.0, 11.0, 0.0, 0.0, 4.0, 38.0),\n",
       " ('Daniel Carvajal', 2.0, 900.0, 10.0, 0.0, 0.0, 3.0, 24.0),\n",
       " ('Achraf Hakimi', 2.5, 426.0, 5.0, 1.0, 0.0, 2.0, 25.0),\n",
       " ('Theo Hernandez', 2.0, 296.0, 3.0, 0.0, 0.0, 1.0, 12.0),\n",
       " ('Jesus Vallejo', 2.0, 270.0, 3.0, 0.0, 0.0, 2.0, 15.0),\n",
       " ('Alvaro Tejero', 2.0, 0.0, 0.0, 0.0, 0.0, 0.0, 0.0),\n",
       " ('Manu', 2.0, 0.0, 0.0, 0.0, 0.0, 0.0, 0.0),\n",
       " ('Casemiro', 5.5, 1202.0, 14.0, 3.0, 0.0, 6.0, 50.0),\n",
       " ('Toni Kroos', 11.1, 1185.0, 14.0, 2.0, 2.0, 6.0, 54.0),\n",
       " ('Isco', 14.0, 1068.0, 13.0, 4.0, 4.0, 6.0, 73.0),\n",
       " ('Luka Modric', 4.3, 1049.0, 12.0, 0.0, 0.0, 6.0, 34.0),\n",
       " ('Marco Asensio', 6.5, 889.0, 9.0, 4.0, 3.0, 4.0, 63.0),\n",
       " ('Lucas Vazquez', 5.8, 566.0, 5.0, 1.0, 1.0, 1.0, 32.0),\n",
       " ('Marcos Llorente', 2.0, 237.0, 2.0, 0.0, 0.0, 0.0, 9.0),\n",
       " ('Dani Ceballos', 2.0, 186.0, 2.0, 2.0, 0.0, 1.0, 21.0),\n",
       " ('Mateo Kovacic', 2.0, 156.0, 1.0, 0.0, 0.0, 0.0, 6.0),\n",
       " ('Franchu', 2.0, 0.0, 0.0, 0.0, 0.0, 0.0, 0.0),\n",
       " ('Jaime Seoane', 2.5, 0.0, 0.0, 0.0, 0.0, 0.0, 0.0),\n",
       " ('Oscar Rodriguez', 2.5, 0.0, 0.0, 0.0, 0.0, 0.0, 0.0),\n",
       " ('Cristiano Ronaldo', 23.0, 1156.0, 13.0, 3.0, 2.0, 0.0, 50.0),\n",
       " ('Karim Benzema', 11.5, 883.0, 11.0, 2.0, 3.0, 0.0, 45.0),\n",
       " ('Gareth Bale', 3.5, 498.0, 5.0, 4.0, 1.0, 0.0, 33.0),\n",
       " ('Borja Mayoral', 2.0, 119.0, 1.0, 1.0, 0.0, 0.0, 14.0),\n",
       " ('Cristo Gonzalez', 2.0, 0.0, 0.0, 0.0, 0.0, 0.0, 0.0)]"
      ]
     },
     "execution_count": 174,
     "metadata": {},
     "output_type": "execute_result"
    }
   ],
   "source": [
    "url = 'https://www.fantasy-liga.com/en/team-profile/Real-Madrid/16'\n",
    "r = requests.get(url)\n",
    "soup = BeautifulSoup(r.text,'html.parser')\n",
    "res = soup.find_all('table',attrs={'class':'tablesorter'})\n",
    "fr = res[0]\n",
    "results = fr.find_all('tr')\n",
    "results = results[1:]\n",
    "records = []\n",
    "for r in results:\n",
    "    name = r.select('td')[3].text\n",
    "    val = float(r.select('td')[4].text)\n",
    "    mins = float(r.select('td')[5].text)\n",
    "    starts = float(r.select('td')[6].text)\n",
    "    goals = float(r.select('td')[8].text)\n",
    "    assists = float(r.select('td')[13].text)\n",
    "    clean_sheet = float(r.select('td')[17].text)\n",
    "    points = float(r.select('td')[18].text)\n",
    "    records.append((name,val,mins,starts,goals,assists,clean_sheet,points))\n",
    "    \n",
    "records"
   ]
  },
  {
   "cell_type": "code",
   "execution_count": 175,
   "metadata": {},
   "outputs": [
    {
     "data": {
      "text/html": [
       "<div>\n",
       "<style>\n",
       "    .dataframe thead tr:only-child th {\n",
       "        text-align: right;\n",
       "    }\n",
       "\n",
       "    .dataframe thead th {\n",
       "        text-align: left;\n",
       "    }\n",
       "\n",
       "    .dataframe tbody tr th {\n",
       "        vertical-align: top;\n",
       "    }\n",
       "</style>\n",
       "<table border=\"1\" class=\"dataframe\">\n",
       "  <thead>\n",
       "    <tr style=\"text-align: right;\">\n",
       "      <th></th>\n",
       "      <th>DecodedName</th>\n",
       "      <th>FantasyLeagueVal</th>\n",
       "      <th>C_Mins</th>\n",
       "      <th>C_Apps</th>\n",
       "      <th>C_Goals</th>\n",
       "      <th>C_Assists</th>\n",
       "      <th>C_Clean_Sheets</th>\n",
       "      <th>FantasyLeaguePoints</th>\n",
       "    </tr>\n",
       "  </thead>\n",
       "  <tbody>\n",
       "    <tr>\n",
       "      <th>0</th>\n",
       "      <td>Keylor Navas</td>\n",
       "      <td>3.0</td>\n",
       "      <td>900.0</td>\n",
       "      <td>10.0</td>\n",
       "      <td>0.0</td>\n",
       "      <td>0.0</td>\n",
       "      <td>4.0</td>\n",
       "      <td>38.0</td>\n",
       "    </tr>\n",
       "    <tr>\n",
       "      <th>1</th>\n",
       "      <td>Kiko Casilla</td>\n",
       "      <td>2.0</td>\n",
       "      <td>630.0</td>\n",
       "      <td>7.0</td>\n",
       "      <td>0.0</td>\n",
       "      <td>0.0</td>\n",
       "      <td>3.0</td>\n",
       "      <td>30.0</td>\n",
       "    </tr>\n",
       "    <tr>\n",
       "      <th>2</th>\n",
       "      <td>Moha Ramos</td>\n",
       "      <td>2.0</td>\n",
       "      <td>0.0</td>\n",
       "      <td>0.0</td>\n",
       "      <td>0.0</td>\n",
       "      <td>0.0</td>\n",
       "      <td>0.0</td>\n",
       "      <td>0.0</td>\n",
       "    </tr>\n",
       "    <tr>\n",
       "      <th>3</th>\n",
       "      <td>Luca Zidane</td>\n",
       "      <td>2.0</td>\n",
       "      <td>0.0</td>\n",
       "      <td>0.0</td>\n",
       "      <td>0.0</td>\n",
       "      <td>0.0</td>\n",
       "      <td>0.0</td>\n",
       "      <td>0.0</td>\n",
       "    </tr>\n",
       "    <tr>\n",
       "      <th>4</th>\n",
       "      <td>Marcelo</td>\n",
       "      <td>11.5</td>\n",
       "      <td>1129.0</td>\n",
       "      <td>13.0</td>\n",
       "      <td>1.0</td>\n",
       "      <td>1.0</td>\n",
       "      <td>5.0</td>\n",
       "      <td>50.0</td>\n",
       "    </tr>\n",
       "  </tbody>\n",
       "</table>\n",
       "</div>"
      ],
      "text/plain": [
       "    DecodedName  FantasyLeagueVal  C_Mins  C_Apps  C_Goals  C_Assists  \\\n",
       "0  Keylor Navas               3.0   900.0    10.0      0.0        0.0   \n",
       "1  Kiko Casilla               2.0   630.0     7.0      0.0        0.0   \n",
       "2    Moha Ramos               2.0     0.0     0.0      0.0        0.0   \n",
       "3   Luca Zidane               2.0     0.0     0.0      0.0        0.0   \n",
       "4       Marcelo              11.5  1129.0    13.0      1.0        1.0   \n",
       "\n",
       "   C_Clean_Sheets  FantasyLeaguePoints  \n",
       "0             4.0                 38.0  \n",
       "1             3.0                 30.0  \n",
       "2             0.0                  0.0  \n",
       "3             0.0                  0.0  \n",
       "4             5.0                 50.0  "
      ]
     },
     "execution_count": 175,
     "metadata": {},
     "output_type": "execute_result"
    }
   ],
   "source": [
    "df = pd.DataFrame(records,columns=['DecodedName','FantasyLeagueVal','C_Mins','C_Apps','C_Goals','C_Assists','C_Clean_Sheets','FantasyLeaguePoints'])\n",
    "df.head()"
   ]
  },
  {
   "cell_type": "code",
   "execution_count": 176,
   "metadata": {
    "collapsed": true
   },
   "outputs": [],
   "source": [
    "df.to_csv('rma.csv',index=False)"
   ]
  },
  {
   "cell_type": "code",
   "execution_count": 177,
   "metadata": {},
   "outputs": [
    {
     "data": {
      "text/plain": [
       "[('Ruben Blanco', 3.5, 1080.0, 12.0, 0.0, 0.0, 2.0, 30.0),\n",
       " ('Sergio Alvarez', 2.0, 575.0, 6.0, 0.0, 0.0, 1.0, 16.0),\n",
       " ('Ivan Villar', 2.0, 0.0, 0.0, 0.0, 0.0, 0.0, 0.0),\n",
       " ('Jonny', 6.5, 1530.0, 17.0, 0.0, 0.0, 3.0, 41.0),\n",
       " ('Hugo Mallo', 6.0, 1401.0, 16.0, 0.0, 2.0, 3.0, 43.0),\n",
       " ('Gustavo Cabral', 6.0, 1235.0, 13.0, 1.0, 1.0, 3.0, 47.0),\n",
       " ('Sergi Gomez', 5.0, 1000.0, 12.0, 2.0, 0.0, 1.0, 42.0),\n",
       " ('Andreu Fontas', 3.0, 814.0, 9.0, 1.0, 1.0, 2.0, 34.0),\n",
       " ('Facundo Roncaglia', 2.0, 224.0, 2.0, 0.0, 0.0, 0.0, 5.0),\n",
       " ('Diego Alende', 2.0, 0.0, 0.0, 0.0, 0.0, 0.0, 0.0),\n",
       " ('Diego Pampin', 2.0, 0.0, 0.0, 0.0, 0.0, 0.0, 0.0),\n",
       " ('Robert Mazan', 4.5, 0.0, 0.0, 0.0, 0.0, 0.0, 0.0),\n",
       " ('Daniel Wass', 10.1, 1494.0, 17.0, 4.0, 5.0, 3.0, 78.0),\n",
       " ('Pione Sisto', 9.5, 1477.0, 18.0, 1.0, 11.0, 3.0, 82.0),\n",
       " ('Stanislav Lobotka', 7.0, 1280.0, 14.0, 0.0, 0.0, 3.0, 41.0),\n",
       " ('Pablo Hernandez', 6.0, 1059.0, 11.0, 2.0, 0.0, 1.0, 41.0),\n",
       " ('Jozabed Sanchez', 5.0, 808.0, 10.0, 0.0, 2.0, 2.0, 30.0),\n",
       " ('Nemanja Radoja', 2.5, 325.0, 3.0, 0.0, 0.0, 0.0, 11.0),\n",
       " ('Brais Mendez', 2.0, 180.0, 3.0, 0.0, 0.0, 0.0, 8.0),\n",
       " ('Andrew Hjulsager', 2.0, 12.0, 0.0, 0.0, 0.0, 0.0, 2.0),\n",
       " ('Iago Aspas', 16.0, 1529.0, 17.0, 10.0, 2.0, 0.0, 80.0),\n",
       " ('Maxi Gomez', 8.0, 1448.0, 17.0, 8.0, 2.0, 0.0, 70.0),\n",
       " ('Emre Mor', 2.5, 242.0, 1.0, 1.0, 0.0, 0.0, 16.0)]"
      ]
     },
     "execution_count": 177,
     "metadata": {},
     "output_type": "execute_result"
    }
   ],
   "source": [
    "url = 'https://www.fantasy-liga.com/en/team-profile/Celta-Vigo/5'\n",
    "r = requests.get(url)\n",
    "soup = BeautifulSoup(r.text,'html.parser')\n",
    "res = soup.find_all('table',attrs={'class':'tablesorter'})\n",
    "fr = res[0]\n",
    "results = fr.find_all('tr')\n",
    "results = results[1:]\n",
    "records = []\n",
    "for r in results:\n",
    "    name = r.select('td')[3].text\n",
    "    val = float(r.select('td')[4].text)\n",
    "    mins = float(r.select('td')[5].text)\n",
    "    starts = float(r.select('td')[6].text)\n",
    "    goals = float(r.select('td')[8].text)\n",
    "    assists = float(r.select('td')[13].text)\n",
    "    clean_sheet = float(r.select('td')[17].text)\n",
    "    points = float(r.select('td')[18].text)\n",
    "    records.append((name,val,mins,starts,goals,assists,clean_sheet,points))\n",
    "    \n",
    "records"
   ]
  },
  {
   "cell_type": "code",
   "execution_count": 178,
   "metadata": {},
   "outputs": [
    {
     "data": {
      "text/html": [
       "<div>\n",
       "<style>\n",
       "    .dataframe thead tr:only-child th {\n",
       "        text-align: right;\n",
       "    }\n",
       "\n",
       "    .dataframe thead th {\n",
       "        text-align: left;\n",
       "    }\n",
       "\n",
       "    .dataframe tbody tr th {\n",
       "        vertical-align: top;\n",
       "    }\n",
       "</style>\n",
       "<table border=\"1\" class=\"dataframe\">\n",
       "  <thead>\n",
       "    <tr style=\"text-align: right;\">\n",
       "      <th></th>\n",
       "      <th>DecodedName</th>\n",
       "      <th>FantasyLeagueVal</th>\n",
       "      <th>C_Mins</th>\n",
       "      <th>C_Apps</th>\n",
       "      <th>C_Goals</th>\n",
       "      <th>C_Assists</th>\n",
       "      <th>C_Clean_Sheets</th>\n",
       "      <th>FantasyLeaguePoints</th>\n",
       "    </tr>\n",
       "  </thead>\n",
       "  <tbody>\n",
       "    <tr>\n",
       "      <th>0</th>\n",
       "      <td>Ruben Blanco</td>\n",
       "      <td>3.5</td>\n",
       "      <td>1080.0</td>\n",
       "      <td>12.0</td>\n",
       "      <td>0.0</td>\n",
       "      <td>0.0</td>\n",
       "      <td>2.0</td>\n",
       "      <td>30.0</td>\n",
       "    </tr>\n",
       "    <tr>\n",
       "      <th>1</th>\n",
       "      <td>Sergio Alvarez</td>\n",
       "      <td>2.0</td>\n",
       "      <td>575.0</td>\n",
       "      <td>6.0</td>\n",
       "      <td>0.0</td>\n",
       "      <td>0.0</td>\n",
       "      <td>1.0</td>\n",
       "      <td>16.0</td>\n",
       "    </tr>\n",
       "    <tr>\n",
       "      <th>2</th>\n",
       "      <td>Ivan Villar</td>\n",
       "      <td>2.0</td>\n",
       "      <td>0.0</td>\n",
       "      <td>0.0</td>\n",
       "      <td>0.0</td>\n",
       "      <td>0.0</td>\n",
       "      <td>0.0</td>\n",
       "      <td>0.0</td>\n",
       "    </tr>\n",
       "    <tr>\n",
       "      <th>3</th>\n",
       "      <td>Jonny</td>\n",
       "      <td>6.5</td>\n",
       "      <td>1530.0</td>\n",
       "      <td>17.0</td>\n",
       "      <td>0.0</td>\n",
       "      <td>0.0</td>\n",
       "      <td>3.0</td>\n",
       "      <td>41.0</td>\n",
       "    </tr>\n",
       "    <tr>\n",
       "      <th>4</th>\n",
       "      <td>Hugo Mallo</td>\n",
       "      <td>6.0</td>\n",
       "      <td>1401.0</td>\n",
       "      <td>16.0</td>\n",
       "      <td>0.0</td>\n",
       "      <td>2.0</td>\n",
       "      <td>3.0</td>\n",
       "      <td>43.0</td>\n",
       "    </tr>\n",
       "  </tbody>\n",
       "</table>\n",
       "</div>"
      ],
      "text/plain": [
       "      DecodedName  FantasyLeagueVal  C_Mins  C_Apps  C_Goals  C_Assists  \\\n",
       "0    Ruben Blanco               3.5  1080.0    12.0      0.0        0.0   \n",
       "1  Sergio Alvarez               2.0   575.0     6.0      0.0        0.0   \n",
       "2     Ivan Villar               2.0     0.0     0.0      0.0        0.0   \n",
       "3           Jonny               6.5  1530.0    17.0      0.0        0.0   \n",
       "4      Hugo Mallo               6.0  1401.0    16.0      0.0        2.0   \n",
       "\n",
       "   C_Clean_Sheets  FantasyLeaguePoints  \n",
       "0             2.0                 30.0  \n",
       "1             1.0                 16.0  \n",
       "2             0.0                  0.0  \n",
       "3             3.0                 41.0  \n",
       "4             3.0                 43.0  "
      ]
     },
     "execution_count": 178,
     "metadata": {},
     "output_type": "execute_result"
    }
   ],
   "source": [
    "df = pd.DataFrame(records,columns=['DecodedName','FantasyLeagueVal','C_Mins','C_Apps','C_Goals','C_Assists','C_Clean_Sheets','FantasyLeaguePoints'])\n",
    "df.head()"
   ]
  },
  {
   "cell_type": "code",
   "execution_count": 179,
   "metadata": {
    "collapsed": true
   },
   "outputs": [],
   "source": [
    "df.to_csv('celta.csv',index=False)"
   ]
  },
  {
   "cell_type": "code",
   "execution_count": 180,
   "metadata": {},
   "outputs": [
    {
     "data": {
      "text/plain": [
       "[('Mariano Barbosa', 3.0, 1125.0, 12.0, 0.0, 0.0, 5.0, 43.0),\n",
       " ('Sergio Asenjo', 3.0, 360.0, 4.0, 0.0, 0.0, 2.0, 18.0),\n",
       " ('Andres Fernandez', 2.0, 135.0, 2.0, 0.0, 0.0, 0.0, 2.0),\n",
       " ('Ander Cantero', 2.0, 0.0, 0.0, 0.0, 0.0, 0.0, 0.0),\n",
       " ('Alvaro Gonzalez', 6.5, 1406.0, 16.0, 0.0, 1.0, 6.0, 48.0),\n",
       " ('Jaume Costa', 8.9, 1404.0, 16.0, 0.0, 0.0, 7.0, 53.0),\n",
       " ('Victor Ruiz', 7.0, 1350.0, 15.0, 0.0, 1.0, 7.0, 53.0),\n",
       " ('Mario Gaspar', 13.5, 1275.0, 14.0, 1.0, 1.0, 6.0, 58.0),\n",
       " ('Antonio Rukavina', 2.0, 497.0, 5.0, 0.0, 0.0, 2.0, 17.0),\n",
       " ('Daniele Bonera', 2.0, 304.0, 3.0, 0.0, 0.0, 1.0, 8.0),\n",
       " ('Ruben Semedo', 2.0, 231.0, 3.0, 0.0, 0.0, 0.0, 5.0),\n",
       " ('Adrian Marin', 2.0, 88.0, 1.0, 0.0, 0.0, 0.0, 0.0),\n",
       " ('Pau Torres', 2.0, 6.0, 0.0, 0.0, 0.0, 0.0, 1.0),\n",
       " ('Genis Montolio', 2.5, 0.0, 0.0, 0.0, 0.0, 0.0, 0.0),\n",
       " ('Pepe Castano', 2.5, 0.0, 0.0, 0.0, 0.0, 0.0, 0.0),\n",
       " ('Rodri', 7.0, 1575.0, 18.0, 0.0, 0.0, 7.0, 47.0),\n",
       " ('Pablo Fornals', 11.0, 1435.0, 16.0, 1.0, 6.0, 6.0, 67.0),\n",
       " ('Manu Trigueros', 13.5, 1371.0, 16.0, 1.0, 3.0, 6.0, 46.0),\n",
       " ('Roberto Soriano', 9.0, 562.0, 6.0, 0.0, 0.0, 2.0, 21.0),\n",
       " ('Denis Cheryshev', 2.0, 213.0, 1.0, 0.0, 1.0, 1.0, 15.0),\n",
       " ('Chuca', 2.0, 86.0, 1.0, 0.0, 0.0, 1.0, 6.0),\n",
       " ('Ramiro Guerra', 2.0, 63.0, 0.0, 0.0, 0.0, 0.0, 2.0),\n",
       " ('Leo Suarez', 2.0, 28.0, 0.0, 0.0, 0.0, 0.0, 1.0),\n",
       " ('Mario Gonzalez', 3.0, 3.0, 0.0, 0.0, 0.0, 0.0, 1.0),\n",
       " ('Manuel Morlanes', 2.5, 0.0, 0.0, 0.0, 0.0, 0.0, 0.0),\n",
       " ('Sergio Lozano', 2.5, 0.0, 0.0, 0.0, 0.0, 0.0, 0.0),\n",
       " ('Pedro Martinez', 2.5, 0.0, 0.0, 0.0, 0.0, 0.0, 0.0),\n",
       " ('Bruno Soriano', 2.0, 0.0, 0.0, 0.0, 0.0, 0.0, 0.0),\n",
       " ('Imanol Garcia', 4.5, 0.0, 0.0, 0.0, 0.0, 0.0, 0.0),\n",
       " ('Cedric Bakambu', 9.5, 1269.0, 15.0, 8.0, 0.0, 0.0, 67.0),\n",
       " ('Carlos Bacca', 7.0, 1152.0, 14.0, 5.0, 3.0, 0.0, 62.0),\n",
       " ('Samu Castillejo', 7.5, 923.0, 11.0, 1.0, 3.0, 0.0, 44.0),\n",
       " ('Enes Unal', 4.0, 852.0, 9.0, 3.0, 1.0, 0.0, 38.0),\n",
       " ('Nicola Sansone', 5.2, 300.0, 3.0, 3.0, 1.0, 0.0, 29.0),\n",
       " ('Raba', 3.5, 290.0, 3.0, 1.0, 0.0, 0.0, 9.0),\n",
       " ('Dario Poveda', 2.0, 1.0, 0.0, 0.0, 0.0, 0.0, 1.0),\n",
       " ('Roger Martinez', 4.5, 0.0, 0.0, 0.0, 0.0, 0.0, 0.0)]"
      ]
     },
     "execution_count": 180,
     "metadata": {},
     "output_type": "execute_result"
    }
   ],
   "source": [
    "url = 'https://www.fantasy-liga.com/en/team-profile/Villarreal/20'\n",
    "r = requests.get(url)\n",
    "soup = BeautifulSoup(r.text,'html.parser')\n",
    "res = soup.find_all('table',attrs={'class':'tablesorter'})\n",
    "fr = res[0]\n",
    "results = fr.find_all('tr')\n",
    "results = results[1:]\n",
    "records = []\n",
    "for r in results:\n",
    "    name = r.select('td')[3].text\n",
    "    val = float(r.select('td')[4].text)\n",
    "    mins = float(r.select('td')[5].text)\n",
    "    starts = float(r.select('td')[6].text)\n",
    "    goals = float(r.select('td')[8].text)\n",
    "    assists = float(r.select('td')[13].text)\n",
    "    clean_sheet = float(r.select('td')[17].text)\n",
    "    points = float(r.select('td')[18].text)\n",
    "    records.append((name,val,mins,starts,goals,assists,clean_sheet,points))\n",
    "    \n",
    "records"
   ]
  },
  {
   "cell_type": "code",
   "execution_count": 181,
   "metadata": {},
   "outputs": [
    {
     "data": {
      "text/html": [
       "<div>\n",
       "<style>\n",
       "    .dataframe thead tr:only-child th {\n",
       "        text-align: right;\n",
       "    }\n",
       "\n",
       "    .dataframe thead th {\n",
       "        text-align: left;\n",
       "    }\n",
       "\n",
       "    .dataframe tbody tr th {\n",
       "        vertical-align: top;\n",
       "    }\n",
       "</style>\n",
       "<table border=\"1\" class=\"dataframe\">\n",
       "  <thead>\n",
       "    <tr style=\"text-align: right;\">\n",
       "      <th></th>\n",
       "      <th>DecodedName</th>\n",
       "      <th>FantasyLeagueVal</th>\n",
       "      <th>C_Mins</th>\n",
       "      <th>C_Apps</th>\n",
       "      <th>C_Goals</th>\n",
       "      <th>C_Assists</th>\n",
       "      <th>C_Clean_Sheets</th>\n",
       "      <th>FantasyLeaguePoints</th>\n",
       "    </tr>\n",
       "  </thead>\n",
       "  <tbody>\n",
       "    <tr>\n",
       "      <th>0</th>\n",
       "      <td>Mariano Barbosa</td>\n",
       "      <td>3.0</td>\n",
       "      <td>1125.0</td>\n",
       "      <td>12.0</td>\n",
       "      <td>0.0</td>\n",
       "      <td>0.0</td>\n",
       "      <td>5.0</td>\n",
       "      <td>43.0</td>\n",
       "    </tr>\n",
       "    <tr>\n",
       "      <th>1</th>\n",
       "      <td>Sergio Asenjo</td>\n",
       "      <td>3.0</td>\n",
       "      <td>360.0</td>\n",
       "      <td>4.0</td>\n",
       "      <td>0.0</td>\n",
       "      <td>0.0</td>\n",
       "      <td>2.0</td>\n",
       "      <td>18.0</td>\n",
       "    </tr>\n",
       "    <tr>\n",
       "      <th>2</th>\n",
       "      <td>Andres Fernandez</td>\n",
       "      <td>2.0</td>\n",
       "      <td>135.0</td>\n",
       "      <td>2.0</td>\n",
       "      <td>0.0</td>\n",
       "      <td>0.0</td>\n",
       "      <td>0.0</td>\n",
       "      <td>2.0</td>\n",
       "    </tr>\n",
       "    <tr>\n",
       "      <th>3</th>\n",
       "      <td>Ander Cantero</td>\n",
       "      <td>2.0</td>\n",
       "      <td>0.0</td>\n",
       "      <td>0.0</td>\n",
       "      <td>0.0</td>\n",
       "      <td>0.0</td>\n",
       "      <td>0.0</td>\n",
       "      <td>0.0</td>\n",
       "    </tr>\n",
       "    <tr>\n",
       "      <th>4</th>\n",
       "      <td>Alvaro Gonzalez</td>\n",
       "      <td>6.5</td>\n",
       "      <td>1406.0</td>\n",
       "      <td>16.0</td>\n",
       "      <td>0.0</td>\n",
       "      <td>1.0</td>\n",
       "      <td>6.0</td>\n",
       "      <td>48.0</td>\n",
       "    </tr>\n",
       "  </tbody>\n",
       "</table>\n",
       "</div>"
      ],
      "text/plain": [
       "        DecodedName  FantasyLeagueVal  C_Mins  C_Apps  C_Goals  C_Assists  \\\n",
       "0   Mariano Barbosa               3.0  1125.0    12.0      0.0        0.0   \n",
       "1     Sergio Asenjo               3.0   360.0     4.0      0.0        0.0   \n",
       "2  Andres Fernandez               2.0   135.0     2.0      0.0        0.0   \n",
       "3     Ander Cantero               2.0     0.0     0.0      0.0        0.0   \n",
       "4   Alvaro Gonzalez               6.5  1406.0    16.0      0.0        1.0   \n",
       "\n",
       "   C_Clean_Sheets  FantasyLeaguePoints  \n",
       "0             5.0                 43.0  \n",
       "1             2.0                 18.0  \n",
       "2             0.0                  2.0  \n",
       "3             0.0                  0.0  \n",
       "4             6.0                 48.0  "
      ]
     },
     "execution_count": 181,
     "metadata": {},
     "output_type": "execute_result"
    }
   ],
   "source": [
    "df = pd.DataFrame(records,columns=['DecodedName','FantasyLeagueVal','C_Mins','C_Apps','C_Goals','C_Assists','C_Clean_Sheets','FantasyLeaguePoints'])\n",
    "df.head()"
   ]
  },
  {
   "cell_type": "code",
   "execution_count": 183,
   "metadata": {},
   "outputs": [],
   "source": [
    "df.to_csv('villareal.csv',index=False)"
   ]
  },
  {
   "cell_type": "code",
   "execution_count": 184,
   "metadata": {},
   "outputs": [
    {
     "data": {
      "text/plain": [
       "[('Antonio Adan', 6.0, 1620.0, 18.0, 0.0, 0.0, 4.0, 47.0),\n",
       " ('Dani Gimenez', 2.0, 0.0, 0.0, 0.0, 0.0, 0.0, 0.0),\n",
       " ('Aissa Mandi', 5.0, 1440.0, 16.0, 0.0, 0.0, 4.0, 39.0),\n",
       " ('Antonio Barragan', 7.0, 1405.0, 17.0, 0.0, 3.0, 4.0, 54.0),\n",
       " ('Riza Durmisi', 6.0, 1253.0, 14.0, 1.0, 2.0, 3.0, 48.0),\n",
       " ('Zouhair Feddal', 2.5, 1022.0, 11.0, 3.0, 0.0, 2.0, 40.0),\n",
       " ('Jordi Amat', 2.0, 873.0, 10.0, 0.0, 0.0, 3.0, 17.0),\n",
       " ('Alin Tosca', 2.0, 423.0, 5.0, 0.0, 0.0, 1.0, 11.0),\n",
       " ('Rafa Navarro', 2.0, 112.0, 1.0, 0.0, 0.0, 0.0, 3.0),\n",
       " ('Redru', 2.0, 0.0, 0.0, 0.0, 0.0, 0.0, 0.0),\n",
       " ('Joaquin', 8.9, 1408.0, 17.0, 3.0, 4.0, 3.0, 67.0),\n",
       " ('Andres Guardado', 6.5, 1240.0, 13.0, 1.0, 6.0, 3.0, 56.0),\n",
       " ('Javi Garcia', 5.0, 1162.0, 13.0, 0.0, 0.0, 3.0, 34.0),\n",
       " ('Fabian Ruiz', 5.5, 877.0, 10.0, 2.0, 3.0, 3.0, 50.0),\n",
       " ('Victor Camarasa', 6.8, 866.0, 11.0, 1.0, 0.0, 2.0, 32.0),\n",
       " ('Ryad Boudebouz', 2.5, 402.0, 3.0, 1.0, 1.0, 0.0, 22.0),\n",
       " ('Nahuel Leiva', 2.0, 250.0, 3.0, 0.0, 0.0, 0.0, 8.0),\n",
       " ('Julio Gracia', 2.0, 21.0, 0.0, 0.0, 0.0, 0.0, 2.0),\n",
       " ('Felipe Gutierrez', 4.5, 0.0, 0.0, 0.0, 0.0, 0.0, 0.0),\n",
       " ('Sergio Leon', 10.5, 1237.0, 14.0, 6.0, 1.0, 0.0, 56.0),\n",
       " ('Cristian Tello', 6.0, 930.0, 9.0, 3.0, 3.0, 0.0, 46.0),\n",
       " ('Antonio Sanabria', 5.0, 638.0, 6.0, 7.0, 0.0, 0.0, 49.0),\n",
       " ('Juanjo Narvaez', 2.0, 304.0, 4.0, 0.0, 0.0, 0.0, 12.0),\n",
       " ('Francis', 2.0, 241.0, 2.0, 0.0, 0.0, 0.0, 9.0),\n",
       " ('Joel Campbell', 2.0, 89.0, 1.0, 1.0, 1.0, 0.0, 12.0),\n",
       " ('Aitor Ruibal', 3.5, 7.0, 0.0, 0.0, 0.0, 0.0, 2.0),\n",
       " ('Ruben Castro', 4.5, 0.0, 0.0, 0.0, 0.0, 0.0, 0.0)]"
      ]
     },
     "execution_count": 184,
     "metadata": {},
     "output_type": "execute_result"
    }
   ],
   "source": [
    "url = 'https://www.fantasy-liga.com/en/team-profile/Real-Betis/15'\n",
    "r = requests.get(url)\n",
    "soup = BeautifulSoup(r.text,'html.parser')\n",
    "res = soup.find_all('table',attrs={'class':'tablesorter'})\n",
    "fr = res[0]\n",
    "results = fr.find_all('tr')\n",
    "results = results[1:]\n",
    "records = []\n",
    "for r in results:\n",
    "    name = r.select('td')[3].text\n",
    "    val = float(r.select('td')[4].text)\n",
    "    mins = float(r.select('td')[5].text)\n",
    "    starts = float(r.select('td')[6].text)\n",
    "    goals = float(r.select('td')[8].text)\n",
    "    assists = float(r.select('td')[13].text)\n",
    "    clean_sheet = float(r.select('td')[17].text)\n",
    "    points = float(r.select('td')[18].text)\n",
    "    records.append((name,val,mins,starts,goals,assists,clean_sheet,points))\n",
    "    \n",
    "records"
   ]
  },
  {
   "cell_type": "code",
   "execution_count": 185,
   "metadata": {},
   "outputs": [
    {
     "data": {
      "text/html": [
       "<div>\n",
       "<style>\n",
       "    .dataframe thead tr:only-child th {\n",
       "        text-align: right;\n",
       "    }\n",
       "\n",
       "    .dataframe thead th {\n",
       "        text-align: left;\n",
       "    }\n",
       "\n",
       "    .dataframe tbody tr th {\n",
       "        vertical-align: top;\n",
       "    }\n",
       "</style>\n",
       "<table border=\"1\" class=\"dataframe\">\n",
       "  <thead>\n",
       "    <tr style=\"text-align: right;\">\n",
       "      <th></th>\n",
       "      <th>DecodedName</th>\n",
       "      <th>FantasyLeagueVal</th>\n",
       "      <th>C_Mins</th>\n",
       "      <th>C_Apps</th>\n",
       "      <th>C_Goals</th>\n",
       "      <th>C_Assists</th>\n",
       "      <th>C_Clean_Sheets</th>\n",
       "      <th>FantasyLeaguePoints</th>\n",
       "    </tr>\n",
       "  </thead>\n",
       "  <tbody>\n",
       "    <tr>\n",
       "      <th>0</th>\n",
       "      <td>Antonio Adan</td>\n",
       "      <td>6.0</td>\n",
       "      <td>1620.0</td>\n",
       "      <td>18.0</td>\n",
       "      <td>0.0</td>\n",
       "      <td>0.0</td>\n",
       "      <td>4.0</td>\n",
       "      <td>47.0</td>\n",
       "    </tr>\n",
       "    <tr>\n",
       "      <th>1</th>\n",
       "      <td>Dani Gimenez</td>\n",
       "      <td>2.0</td>\n",
       "      <td>0.0</td>\n",
       "      <td>0.0</td>\n",
       "      <td>0.0</td>\n",
       "      <td>0.0</td>\n",
       "      <td>0.0</td>\n",
       "      <td>0.0</td>\n",
       "    </tr>\n",
       "    <tr>\n",
       "      <th>2</th>\n",
       "      <td>Aissa Mandi</td>\n",
       "      <td>5.0</td>\n",
       "      <td>1440.0</td>\n",
       "      <td>16.0</td>\n",
       "      <td>0.0</td>\n",
       "      <td>0.0</td>\n",
       "      <td>4.0</td>\n",
       "      <td>39.0</td>\n",
       "    </tr>\n",
       "    <tr>\n",
       "      <th>3</th>\n",
       "      <td>Antonio Barragan</td>\n",
       "      <td>7.0</td>\n",
       "      <td>1405.0</td>\n",
       "      <td>17.0</td>\n",
       "      <td>0.0</td>\n",
       "      <td>3.0</td>\n",
       "      <td>4.0</td>\n",
       "      <td>54.0</td>\n",
       "    </tr>\n",
       "    <tr>\n",
       "      <th>4</th>\n",
       "      <td>Riza Durmisi</td>\n",
       "      <td>6.0</td>\n",
       "      <td>1253.0</td>\n",
       "      <td>14.0</td>\n",
       "      <td>1.0</td>\n",
       "      <td>2.0</td>\n",
       "      <td>3.0</td>\n",
       "      <td>48.0</td>\n",
       "    </tr>\n",
       "  </tbody>\n",
       "</table>\n",
       "</div>"
      ],
      "text/plain": [
       "        DecodedName  FantasyLeagueVal  C_Mins  C_Apps  C_Goals  C_Assists  \\\n",
       "0      Antonio Adan               6.0  1620.0    18.0      0.0        0.0   \n",
       "1      Dani Gimenez               2.0     0.0     0.0      0.0        0.0   \n",
       "2       Aissa Mandi               5.0  1440.0    16.0      0.0        0.0   \n",
       "3  Antonio Barragan               7.0  1405.0    17.0      0.0        3.0   \n",
       "4      Riza Durmisi               6.0  1253.0    14.0      1.0        2.0   \n",
       "\n",
       "   C_Clean_Sheets  FantasyLeaguePoints  \n",
       "0             4.0                 47.0  \n",
       "1             0.0                  0.0  \n",
       "2             4.0                 39.0  \n",
       "3             4.0                 54.0  \n",
       "4             3.0                 48.0  "
      ]
     },
     "execution_count": 185,
     "metadata": {},
     "output_type": "execute_result"
    }
   ],
   "source": [
    "df = pd.DataFrame(records,columns=['DecodedName','FantasyLeagueVal','C_Mins','C_Apps','C_Goals','C_Assists','C_Clean_Sheets','FantasyLeaguePoints'])\n",
    "df.head()"
   ]
  },
  {
   "cell_type": "code",
   "execution_count": 186,
   "metadata": {
    "collapsed": true
   },
   "outputs": [],
   "source": [
    "df.to_csv('betis.csv',index=False)"
   ]
  },
  {
   "cell_type": "code",
   "execution_count": 187,
   "metadata": {},
   "outputs": [
    {
     "data": {
      "text/plain": [
       "[('Sergio Rico', 5.0, 985.0, 10.0, 0.0, 0.0, 4.0, 36.0),\n",
       " ('David Soria', 2.0, 545.0, 7.0, 0.0, 0.0, 2.0, 23.0),\n",
       " ('Juan Soriano', 2.0, 0.0, 0.0, 0.0, 0.0, 0.0, 0.0),\n",
       " ('Clement Lenglet', 8.0, 1335.0, 15.0, 3.0, 0.0, 6.0, 66.0),\n",
       " ('Sergio Escudero', 4.0, 990.0, 11.0, 0.0, 1.0, 5.0, 41.0),\n",
       " ('Simon Kjaer', 3.0, 988.0, 11.0, 1.0, 0.0, 3.0, 36.0),\n",
       " ('Gabriel Mercado', 4.0, 869.0, 10.0, 0.0, 1.0, 6.0, 42.0),\n",
       " ('Sebastien Corchia', 2.0, 727.0, 8.0, 0.0, 1.0, 1.0, 20.0),\n",
       " ('Lionel Carole', 2.0, 450.0, 5.0, 0.0, 1.0, 1.0, 17.0),\n",
       " ('Daniel Carrico', 2.0, 270.0, 3.0, 0.0, 0.0, 2.0, 13.0),\n",
       " ('Nico Pareja', 2.0, 135.0, 2.0, 0.0, 0.0, 2.0, 12.0),\n",
       " ('Guilherme Arana', 4.5, 0.0, 0.0, 0.0, 0.0, 0.0, 0.0),\n",
       " ('Jesus Navas', 5.0, 1010.0, 11.0, 1.0, 0.0, 4.0, 37.0),\n",
       " ('Guido Pizarro', 3.5, 993.0, 11.0, 1.0, 0.0, 3.0, 32.0),\n",
       " ('Pablo Sarabia', 11.0, 936.0, 10.0, 1.0, 3.0, 3.0, 47.0),\n",
       " ('Ever Banega', 4.5, 930.0, 9.0, 0.0, 2.0, 2.0, 34.0),\n",
       " (\"Steven N'Zonzi\", 9.0, 820.0, 10.0, 0.0, 0.0, 3.0, 28.0),\n",
       " ('Franco Vazquez', 8.2, 739.0, 9.0, 1.0, 3.0, 2.0, 38.0),\n",
       " ('Michael Krohn-Dehli', 4.5, 532.0, 5.0, 1.0, 1.0, 3.0, 33.0),\n",
       " ('Ganso', 2.0, 457.0, 6.0, 2.0, 0.0, 4.0, 31.0),\n",
       " ('Joaquin Correa', 2.0, 427.0, 5.0, 0.0, 0.0, 2.0, 17.0),\n",
       " ('Johannes Geis', 2.0, 399.0, 4.0, 0.0, 1.0, 1.0, 18.0),\n",
       " ('Luis Muriel', 4.0, 842.0, 9.0, 3.0, 0.0, 0.0, 37.0),\n",
       " ('Nolito', 4.5, 770.0, 8.0, 2.0, 4.0, 0.0, 44.0),\n",
       " ('Wissam Ben Yedder', 7.0, 730.0, 8.0, 5.0, 0.0, 0.0, 41.0)]"
      ]
     },
     "execution_count": 187,
     "metadata": {},
     "output_type": "execute_result"
    }
   ],
   "source": [
    "url = 'https://www.fantasy-liga.com/en/team-profile/Sevilla/18'\n",
    "r = requests.get(url)\n",
    "soup = BeautifulSoup(r.text,'html.parser')\n",
    "res = soup.find_all('table',attrs={'class':'tablesorter'})\n",
    "fr = res[0]\n",
    "results = fr.find_all('tr')\n",
    "results = results[1:]\n",
    "records = []\n",
    "for r in results:\n",
    "    name = r.select('td')[3].text\n",
    "    val = float(r.select('td')[4].text)\n",
    "    mins = float(r.select('td')[5].text)\n",
    "    starts = float(r.select('td')[6].text)\n",
    "    goals = float(r.select('td')[8].text)\n",
    "    assists = float(r.select('td')[13].text)\n",
    "    clean_sheet = float(r.select('td')[17].text)\n",
    "    points = float(r.select('td')[18].text)\n",
    "    records.append((name,val,mins,starts,goals,assists,clean_sheet,points))\n",
    "    \n",
    "records"
   ]
  },
  {
   "cell_type": "code",
   "execution_count": 188,
   "metadata": {},
   "outputs": [
    {
     "data": {
      "text/html": [
       "<div>\n",
       "<style>\n",
       "    .dataframe thead tr:only-child th {\n",
       "        text-align: right;\n",
       "    }\n",
       "\n",
       "    .dataframe thead th {\n",
       "        text-align: left;\n",
       "    }\n",
       "\n",
       "    .dataframe tbody tr th {\n",
       "        vertical-align: top;\n",
       "    }\n",
       "</style>\n",
       "<table border=\"1\" class=\"dataframe\">\n",
       "  <thead>\n",
       "    <tr style=\"text-align: right;\">\n",
       "      <th></th>\n",
       "      <th>DecodedName</th>\n",
       "      <th>FantasyLeagueVal</th>\n",
       "      <th>C_Mins</th>\n",
       "      <th>C_Apps</th>\n",
       "      <th>C_Goals</th>\n",
       "      <th>C_Assists</th>\n",
       "      <th>C_Clean_Sheets</th>\n",
       "      <th>FantasyLeaguePoints</th>\n",
       "    </tr>\n",
       "  </thead>\n",
       "  <tbody>\n",
       "    <tr>\n",
       "      <th>0</th>\n",
       "      <td>Sergio Rico</td>\n",
       "      <td>5.0</td>\n",
       "      <td>985.0</td>\n",
       "      <td>10.0</td>\n",
       "      <td>0.0</td>\n",
       "      <td>0.0</td>\n",
       "      <td>4.0</td>\n",
       "      <td>36.0</td>\n",
       "    </tr>\n",
       "    <tr>\n",
       "      <th>1</th>\n",
       "      <td>David Soria</td>\n",
       "      <td>2.0</td>\n",
       "      <td>545.0</td>\n",
       "      <td>7.0</td>\n",
       "      <td>0.0</td>\n",
       "      <td>0.0</td>\n",
       "      <td>2.0</td>\n",
       "      <td>23.0</td>\n",
       "    </tr>\n",
       "    <tr>\n",
       "      <th>2</th>\n",
       "      <td>Juan Soriano</td>\n",
       "      <td>2.0</td>\n",
       "      <td>0.0</td>\n",
       "      <td>0.0</td>\n",
       "      <td>0.0</td>\n",
       "      <td>0.0</td>\n",
       "      <td>0.0</td>\n",
       "      <td>0.0</td>\n",
       "    </tr>\n",
       "    <tr>\n",
       "      <th>3</th>\n",
       "      <td>Clement Lenglet</td>\n",
       "      <td>8.0</td>\n",
       "      <td>1335.0</td>\n",
       "      <td>15.0</td>\n",
       "      <td>3.0</td>\n",
       "      <td>0.0</td>\n",
       "      <td>6.0</td>\n",
       "      <td>66.0</td>\n",
       "    </tr>\n",
       "    <tr>\n",
       "      <th>4</th>\n",
       "      <td>Sergio Escudero</td>\n",
       "      <td>4.0</td>\n",
       "      <td>990.0</td>\n",
       "      <td>11.0</td>\n",
       "      <td>0.0</td>\n",
       "      <td>1.0</td>\n",
       "      <td>5.0</td>\n",
       "      <td>41.0</td>\n",
       "    </tr>\n",
       "  </tbody>\n",
       "</table>\n",
       "</div>"
      ],
      "text/plain": [
       "       DecodedName  FantasyLeagueVal  C_Mins  C_Apps  C_Goals  C_Assists  \\\n",
       "0      Sergio Rico               5.0   985.0    10.0      0.0        0.0   \n",
       "1      David Soria               2.0   545.0     7.0      0.0        0.0   \n",
       "2     Juan Soriano               2.0     0.0     0.0      0.0        0.0   \n",
       "3  Clement Lenglet               8.0  1335.0    15.0      3.0        0.0   \n",
       "4  Sergio Escudero               4.0   990.0    11.0      0.0        1.0   \n",
       "\n",
       "   C_Clean_Sheets  FantasyLeaguePoints  \n",
       "0             4.0                 36.0  \n",
       "1             2.0                 23.0  \n",
       "2             0.0                  0.0  \n",
       "3             6.0                 66.0  \n",
       "4             5.0                 41.0  "
      ]
     },
     "execution_count": 188,
     "metadata": {},
     "output_type": "execute_result"
    }
   ],
   "source": [
    "df = pd.DataFrame(records,columns=['DecodedName','FantasyLeagueVal','C_Mins','C_Apps','C_Goals','C_Assists','C_Clean_Sheets','FantasyLeaguePoints'])\n",
    "df.head()"
   ]
  },
  {
   "cell_type": "code",
   "execution_count": 189,
   "metadata": {
    "collapsed": true
   },
   "outputs": [],
   "source": [
    "df.to_csv('sevilla.csv',index=False)"
   ]
  },
  {
   "cell_type": "code",
   "execution_count": 190,
   "metadata": {},
   "outputs": [
    {
     "data": {
      "text/plain": [
       "[('Marko Dmitrovic', 4.0, 1530.0, 17.0, 0.0, 0.0, 5.0, 50.0),\n",
       " ('Yoel Rodriguez', 2.0, 0.0, 0.0, 0.0, 0.0, 0.0, 0.0),\n",
       " ('Asier Riesgo', 2.0, 0.0, 0.0, 0.0, 0.0, 0.0, 0.0),\n",
       " ('Markel Areitio', 2.0, 0.0, 0.0, 0.0, 0.0, 0.0, 0.0),\n",
       " ('Ander Capa', 7.5, 1446.0, 17.0, 0.0, 1.0, 5.0, 52.0),\n",
       " ('Paulo Oliveira', 5.0, 1350.0, 15.0, 0.0, 0.0, 5.0, 45.0),\n",
       " ('Anaitz Arbilla', 4.0, 1108.0, 12.0, 1.0, 0.0, 3.0, 37.0),\n",
       " ('Jose Angel', 4.5, 974.0, 11.0, 0.0, 5.0, 3.0, 48.0),\n",
       " ('David Junca', 2.0, 545.0, 6.0, 0.0, 2.0, 2.0, 25.0),\n",
       " ('David Lomban', 2.0, 345.0, 4.0, 0.0, 0.0, 0.0, 5.0),\n",
       " ('Ivan Ramis', 2.0, 342.0, 4.0, 0.0, 0.0, 2.0, 14.0),\n",
       " ('Julen Lopez', 2.0, 0.0, 0.0, 0.0, 0.0, 0.0, 0.0),\n",
       " ('Dani Garcia', 10.5, 1317.0, 15.0, 0.0, 0.0, 5.0, 35.0),\n",
       " ('Takashi Inui', 8.0, 1300.0, 16.0, 2.0, 1.0, 4.0, 54.0),\n",
       " ('Joan Jordan', 5.0, 1132.0, 12.0, 3.0, 0.0, 4.0, 50.0),\n",
       " ('Gonzalo Escalante', 4.0, 724.0, 8.0, 1.0, 0.0, 2.0, 27.0),\n",
       " ('Ivan Alejo', 3.5, 557.0, 7.0, 1.0, 3.0, 2.0, 35.0),\n",
       " ('Ruben Pena', 2.5, 376.0, 3.0, 0.0, 0.0, 1.0, 16.0),\n",
       " ('Pape Diop', 2.0, 263.0, 3.0, 0.0, 0.0, 0.0, 7.0),\n",
       " ('Imanol Sarriegui', 2.0, 37.0, 0.0, 0.0, 0.0, 0.0, 2.0),\n",
       " ('Fabian Orellana', 2.0, 19.0, 0.0, 1.0, 0.0, 0.0, 6.0),\n",
       " ('Fran Rico', 2.0, 0.0, 0.0, 0.0, 0.0, 0.0, 0.0),\n",
       " ('Pedro Leon', 3.8, 0.0, 0.0, 0.0, 0.0, 0.0, 0.0),\n",
       " ('Julen Azkue', 2.5, 0.0, 0.0, 0.0, 0.0, 0.0, 0.0),\n",
       " ('Sergi Enrich', 13.1, 1155.0, 12.0, 3.0, 1.0, 0.0, 45.0),\n",
       " ('Kike Garcia', 5.5, 998.0, 12.0, 1.0, 0.0, 0.0, 32.0),\n",
       " ('Charles', 5.5, 720.0, 8.0, 5.0, 1.0, 0.0, 49.0),\n",
       " ('Bebe', 2.0, 343.0, 3.0, 0.0, 0.0, 0.0, 13.0)]"
      ]
     },
     "execution_count": 190,
     "metadata": {},
     "output_type": "execute_result"
    }
   ],
   "source": [
    "url = 'https://www.fantasy-liga.com/en/team-profile/Eibar/7'\n",
    "r = requests.get(url)\n",
    "soup = BeautifulSoup(r.text,'html.parser')\n",
    "res = soup.find_all('table',attrs={'class':'tablesorter'})\n",
    "fr = res[0]\n",
    "results = fr.find_all('tr')\n",
    "results = results[1:]\n",
    "records = []\n",
    "for r in results:\n",
    "    name = r.select('td')[3].text\n",
    "    val = float(r.select('td')[4].text)\n",
    "    mins = float(r.select('td')[5].text)\n",
    "    starts = float(r.select('td')[6].text)\n",
    "    goals = float(r.select('td')[8].text)\n",
    "    assists = float(r.select('td')[13].text)\n",
    "    clean_sheet = float(r.select('td')[17].text)\n",
    "    points = float(r.select('td')[18].text)\n",
    "    records.append((name,val,mins,starts,goals,assists,clean_sheet,points))\n",
    "    \n",
    "records"
   ]
  },
  {
   "cell_type": "code",
   "execution_count": 191,
   "metadata": {},
   "outputs": [
    {
     "data": {
      "text/html": [
       "<div>\n",
       "<style>\n",
       "    .dataframe thead tr:only-child th {\n",
       "        text-align: right;\n",
       "    }\n",
       "\n",
       "    .dataframe thead th {\n",
       "        text-align: left;\n",
       "    }\n",
       "\n",
       "    .dataframe tbody tr th {\n",
       "        vertical-align: top;\n",
       "    }\n",
       "</style>\n",
       "<table border=\"1\" class=\"dataframe\">\n",
       "  <thead>\n",
       "    <tr style=\"text-align: right;\">\n",
       "      <th></th>\n",
       "      <th>DecodedName</th>\n",
       "      <th>FantasyLeagueVal</th>\n",
       "      <th>C_Mins</th>\n",
       "      <th>C_Apps</th>\n",
       "      <th>C_Goals</th>\n",
       "      <th>C_Assists</th>\n",
       "      <th>C_Clean_Sheets</th>\n",
       "      <th>FantasyLeaguePoints</th>\n",
       "    </tr>\n",
       "  </thead>\n",
       "  <tbody>\n",
       "    <tr>\n",
       "      <th>0</th>\n",
       "      <td>Marko Dmitrovic</td>\n",
       "      <td>4.0</td>\n",
       "      <td>1530.0</td>\n",
       "      <td>17.0</td>\n",
       "      <td>0.0</td>\n",
       "      <td>0.0</td>\n",
       "      <td>5.0</td>\n",
       "      <td>50.0</td>\n",
       "    </tr>\n",
       "    <tr>\n",
       "      <th>1</th>\n",
       "      <td>Yoel Rodriguez</td>\n",
       "      <td>2.0</td>\n",
       "      <td>0.0</td>\n",
       "      <td>0.0</td>\n",
       "      <td>0.0</td>\n",
       "      <td>0.0</td>\n",
       "      <td>0.0</td>\n",
       "      <td>0.0</td>\n",
       "    </tr>\n",
       "    <tr>\n",
       "      <th>2</th>\n",
       "      <td>Asier Riesgo</td>\n",
       "      <td>2.0</td>\n",
       "      <td>0.0</td>\n",
       "      <td>0.0</td>\n",
       "      <td>0.0</td>\n",
       "      <td>0.0</td>\n",
       "      <td>0.0</td>\n",
       "      <td>0.0</td>\n",
       "    </tr>\n",
       "    <tr>\n",
       "      <th>3</th>\n",
       "      <td>Markel Areitio</td>\n",
       "      <td>2.0</td>\n",
       "      <td>0.0</td>\n",
       "      <td>0.0</td>\n",
       "      <td>0.0</td>\n",
       "      <td>0.0</td>\n",
       "      <td>0.0</td>\n",
       "      <td>0.0</td>\n",
       "    </tr>\n",
       "    <tr>\n",
       "      <th>4</th>\n",
       "      <td>Ander Capa</td>\n",
       "      <td>7.5</td>\n",
       "      <td>1446.0</td>\n",
       "      <td>17.0</td>\n",
       "      <td>0.0</td>\n",
       "      <td>1.0</td>\n",
       "      <td>5.0</td>\n",
       "      <td>52.0</td>\n",
       "    </tr>\n",
       "  </tbody>\n",
       "</table>\n",
       "</div>"
      ],
      "text/plain": [
       "       DecodedName  FantasyLeagueVal  C_Mins  C_Apps  C_Goals  C_Assists  \\\n",
       "0  Marko Dmitrovic               4.0  1530.0    17.0      0.0        0.0   \n",
       "1   Yoel Rodriguez               2.0     0.0     0.0      0.0        0.0   \n",
       "2     Asier Riesgo               2.0     0.0     0.0      0.0        0.0   \n",
       "3   Markel Areitio               2.0     0.0     0.0      0.0        0.0   \n",
       "4       Ander Capa               7.5  1446.0    17.0      0.0        1.0   \n",
       "\n",
       "   C_Clean_Sheets  FantasyLeaguePoints  \n",
       "0             5.0                 50.0  \n",
       "1             0.0                  0.0  \n",
       "2             0.0                  0.0  \n",
       "3             0.0                  0.0  \n",
       "4             5.0                 52.0  "
      ]
     },
     "execution_count": 191,
     "metadata": {},
     "output_type": "execute_result"
    }
   ],
   "source": [
    "df = pd.DataFrame(records,columns=['DecodedName','FantasyLeagueVal','C_Mins','C_Apps','C_Goals','C_Assists','C_Clean_Sheets','FantasyLeaguePoints'])\n",
    "df.head()"
   ]
  },
  {
   "cell_type": "code",
   "execution_count": 192,
   "metadata": {
    "collapsed": true
   },
   "outputs": [],
   "source": [
    "df.to_csv('eibar.csv',index=False)"
   ]
  },
  {
   "cell_type": "code",
   "execution_count": 193,
   "metadata": {},
   "outputs": [
    {
     "data": {
      "text/plain": [
       "[('Ruben Martinez', 2.0, 810.0, 9.0, 0.0, 0.0, 1.0, 15.0),\n",
       " ('Costel Pantilimon', 2.0, 540.0, 6.0, 0.0, 0.0, 1.0, 17.0),\n",
       " ('Francis Uzoho', 2.0, 180.0, 2.0, 0.0, 0.0, 1.0, 8.0),\n",
       " ('Przemyslaw Tyton', 2.0, 90.0, 1.0, 0.0, 0.0, 0.0, 0.0),\n",
       " ('Juanfran', 10.5, 1524.0, 17.0, 0.0, 1.0, 3.0, 42.0),\n",
       " ('Fabian Schar', 4.5, 1320.0, 15.0, 2.0, 1.0, 2.0, 44.0),\n",
       " ('Sidnei', 4.5, 1215.0, 14.0, 1.0, 1.0, 2.0, 38.0),\n",
       " ('Luisinho', 3.5, 1182.0, 13.0, 1.0, 1.0, 2.0, 33.0),\n",
       " ('Fernando Navarro', 2.0, 475.0, 5.0, 0.0, 0.0, 1.0, 12.0),\n",
       " ('Raul Albentosa', 2.5, 405.0, 4.0, 0.0, 0.0, 1.0, 9.0),\n",
       " ('Gerard Valentin', 2.0, 96.0, 1.0, 0.0, 0.0, 0.0, 2.0),\n",
       " ('Blas Alonso', 2.5, 0.0, 0.0, 0.0, 0.0, 0.0, 0.0),\n",
       " ('Quique Fornos', 2.5, 0.0, 0.0, 0.0, 0.0, 0.0, 0.0),\n",
       " ('Aldo One', 2.5, 0.0, 0.0, 0.0, 0.0, 0.0, 0.0),\n",
       " ('Guilherme', 6.5, 1446.0, 17.0, 0.0, 0.0, 3.0, 34.0),\n",
       " ('Celso Borges', 9.5, 1365.0, 16.0, 3.0, 1.0, 3.0, 55.0),\n",
       " ('Fede Cartabia', 5.0, 1131.0, 14.0, 2.0, 1.0, 2.0, 41.0),\n",
       " ('Federico Valverde', 5.0, 946.0, 10.0, 0.0, 0.0, 2.0, 30.0),\n",
       " ('Emre Colak', 5.5, 634.0, 8.0, 0.0, 1.0, 2.0, 25.0),\n",
       " ('Zakaria Bakkali', 2.0, 502.0, 6.0, 0.0, 0.0, 0.0, 16.0),\n",
       " ('Pedro Mosquera', 2.0, 466.0, 5.0, 0.0, 1.0, 0.0, 15.0),\n",
       " ('Carles Gil', 2.5, 330.0, 4.0, 0.0, 0.0, 1.0, 12.0),\n",
       " ('Bruno Gama', 2.0, 111.0, 1.0, 0.0, 0.0, 0.0, 5.0),\n",
       " ('Borja Valle', 2.0, 70.0, 0.0, 0.0, 0.0, 0.0, 7.0),\n",
       " ('Edu Exposito', 2.0, 53.0, 0.0, 0.0, 0.0, 0.0, 2.0),\n",
       " ('Lucas Perez', 7.0, 1110.0, 12.0, 2.0, 1.0, 0.0, 47.0),\n",
       " ('Adrian Lopez', 3.5, 780.0, 8.0, 3.0, 2.0, 0.0, 38.0),\n",
       " ('Florin Andone', 9.5, 769.0, 7.0, 4.0, 2.0, 0.0, 38.0),\n",
       " ('Pinchi', 2.5, 0.0, 0.0, 0.0, 0.0, 0.0, 0.0)]"
      ]
     },
     "execution_count": 193,
     "metadata": {},
     "output_type": "execute_result"
    }
   ],
   "source": [
    "url = 'https://www.fantasy-liga.com/en/team-profile/Deportivo-La-Coruna/6'\n",
    "r = requests.get(url)\n",
    "soup = BeautifulSoup(r.text,'html.parser')\n",
    "res = soup.find_all('table',attrs={'class':'tablesorter'})\n",
    "fr = res[0]\n",
    "results = fr.find_all('tr')\n",
    "results = results[1:]\n",
    "records = []\n",
    "for r in results:\n",
    "    name = r.select('td')[3].text\n",
    "    val = float(r.select('td')[4].text)\n",
    "    mins = float(r.select('td')[5].text)\n",
    "    starts = float(r.select('td')[6].text)\n",
    "    goals = float(r.select('td')[8].text)\n",
    "    assists = float(r.select('td')[13].text)\n",
    "    clean_sheet = float(r.select('td')[17].text)\n",
    "    points = float(r.select('td')[18].text)\n",
    "    records.append((name,val,mins,starts,goals,assists,clean_sheet,points))\n",
    "    \n",
    "records"
   ]
  },
  {
   "cell_type": "code",
   "execution_count": 194,
   "metadata": {},
   "outputs": [
    {
     "data": {
      "text/html": [
       "<div>\n",
       "<style>\n",
       "    .dataframe thead tr:only-child th {\n",
       "        text-align: right;\n",
       "    }\n",
       "\n",
       "    .dataframe thead th {\n",
       "        text-align: left;\n",
       "    }\n",
       "\n",
       "    .dataframe tbody tr th {\n",
       "        vertical-align: top;\n",
       "    }\n",
       "</style>\n",
       "<table border=\"1\" class=\"dataframe\">\n",
       "  <thead>\n",
       "    <tr style=\"text-align: right;\">\n",
       "      <th></th>\n",
       "      <th>DecodedName</th>\n",
       "      <th>FantasyLeagueVal</th>\n",
       "      <th>C_Mins</th>\n",
       "      <th>C_Apps</th>\n",
       "      <th>C_Goals</th>\n",
       "      <th>C_Assists</th>\n",
       "      <th>C_Clean_Sheets</th>\n",
       "      <th>FantasyLeaguePoints</th>\n",
       "    </tr>\n",
       "  </thead>\n",
       "  <tbody>\n",
       "    <tr>\n",
       "      <th>0</th>\n",
       "      <td>Ruben Martinez</td>\n",
       "      <td>2.0</td>\n",
       "      <td>810.0</td>\n",
       "      <td>9.0</td>\n",
       "      <td>0.0</td>\n",
       "      <td>0.0</td>\n",
       "      <td>1.0</td>\n",
       "      <td>15.0</td>\n",
       "    </tr>\n",
       "    <tr>\n",
       "      <th>1</th>\n",
       "      <td>Costel Pantilimon</td>\n",
       "      <td>2.0</td>\n",
       "      <td>540.0</td>\n",
       "      <td>6.0</td>\n",
       "      <td>0.0</td>\n",
       "      <td>0.0</td>\n",
       "      <td>1.0</td>\n",
       "      <td>17.0</td>\n",
       "    </tr>\n",
       "    <tr>\n",
       "      <th>2</th>\n",
       "      <td>Francis Uzoho</td>\n",
       "      <td>2.0</td>\n",
       "      <td>180.0</td>\n",
       "      <td>2.0</td>\n",
       "      <td>0.0</td>\n",
       "      <td>0.0</td>\n",
       "      <td>1.0</td>\n",
       "      <td>8.0</td>\n",
       "    </tr>\n",
       "    <tr>\n",
       "      <th>3</th>\n",
       "      <td>Przemyslaw Tyton</td>\n",
       "      <td>2.0</td>\n",
       "      <td>90.0</td>\n",
       "      <td>1.0</td>\n",
       "      <td>0.0</td>\n",
       "      <td>0.0</td>\n",
       "      <td>0.0</td>\n",
       "      <td>0.0</td>\n",
       "    </tr>\n",
       "    <tr>\n",
       "      <th>4</th>\n",
       "      <td>Juanfran</td>\n",
       "      <td>10.5</td>\n",
       "      <td>1524.0</td>\n",
       "      <td>17.0</td>\n",
       "      <td>0.0</td>\n",
       "      <td>1.0</td>\n",
       "      <td>3.0</td>\n",
       "      <td>42.0</td>\n",
       "    </tr>\n",
       "  </tbody>\n",
       "</table>\n",
       "</div>"
      ],
      "text/plain": [
       "         DecodedName  FantasyLeagueVal  C_Mins  C_Apps  C_Goals  C_Assists  \\\n",
       "0     Ruben Martinez               2.0   810.0     9.0      0.0        0.0   \n",
       "1  Costel Pantilimon               2.0   540.0     6.0      0.0        0.0   \n",
       "2      Francis Uzoho               2.0   180.0     2.0      0.0        0.0   \n",
       "3   Przemyslaw Tyton               2.0    90.0     1.0      0.0        0.0   \n",
       "4           Juanfran              10.5  1524.0    17.0      0.0        1.0   \n",
       "\n",
       "   C_Clean_Sheets  FantasyLeaguePoints  \n",
       "0             1.0                 15.0  \n",
       "1             1.0                 17.0  \n",
       "2             1.0                  8.0  \n",
       "3             0.0                  0.0  \n",
       "4             3.0                 42.0  "
      ]
     },
     "execution_count": 194,
     "metadata": {},
     "output_type": "execute_result"
    }
   ],
   "source": [
    "df = pd.DataFrame(records,columns=['DecodedName','FantasyLeagueVal','C_Mins','C_Apps','C_Goals','C_Assists','C_Clean_Sheets','FantasyLeaguePoints'])\n",
    "df.head()"
   ]
  },
  {
   "cell_type": "code",
   "execution_count": 197,
   "metadata": {},
   "outputs": [],
   "source": [
    "df.to_csv('Ladeportivo.csv',index=False)"
   ]
  },
  {
   "cell_type": "code",
   "execution_count": 198,
   "metadata": {},
   "outputs": [
    {
     "data": {
      "text/plain": [
       "[('Vicente Guaita', 7.0, 1440.0, 16.0, 0.0, 0.0, 5.0, 58.0),\n",
       " ('Emiliano Martinez', 2.0, 90.0, 1.0, 0.0, 0.0, 0.0, 2.0),\n",
       " ('Filip Manojlovic', 2.0, 0.0, 0.0, 0.0, 0.0, 0.0, 0.0),\n",
       " ('Djene Dakonam', 7.0, 1529.0, 17.0, 0.0, 0.0, 5.0, 48.0),\n",
       " ('Damian Suarez', 6.5, 1440.0, 16.0, 0.0, 2.0, 5.0, 51.0),\n",
       " ('Juan Cala', 6.5, 1440.0, 16.0, 1.0, 1.0, 4.0, 51.0),\n",
       " ('Vitorino Antunes', 6.0, 1350.0, 15.0, 0.0, 2.0, 3.0, 44.0),\n",
       " ('Francisco Molinero', 2.0, 311.0, 3.0, 0.0, 0.0, 2.0, 13.0),\n",
       " ('Bruno Gonzalez', 2.0, 98.0, 1.0, 0.0, 0.0, 1.0, 9.0),\n",
       " ('Mathias Olivera', 2.0, 12.0, 0.0, 0.0, 0.0, 0.0, 2.0),\n",
       " ('Nicolas Gorosito', 2.0, 0.0, 0.0, 0.0, 0.0, 0.0, 0.0),\n",
       " ('Markel Bergara', 6.5, 1289.0, 15.0, 4.0, 1.0, 4.0, 58.0),\n",
       " ('Mauro Arambarri', 5.5, 1225.0, 15.0, 1.0, 0.0, 3.0, 37.0),\n",
       " ('Faycal Fajr', 4.5, 918.0, 10.0, 1.0, 2.0, 3.0, 40.0),\n",
       " ('Francisco Portillo', 5.0, 834.0, 9.0, 1.0, 2.0, 3.0, 38.0),\n",
       " ('Sergio Mora', 3.0, 341.0, 2.0, 0.0, 0.0, 1.0, 17.0),\n",
       " ('Gaku Shibasaki', 2.0, 331.0, 4.0, 1.0, 0.0, 1.0, 17.0),\n",
       " ('Mehdi Lacen', 2.0, 59.0, 0.0, 0.0, 0.0, 0.0, 3.0),\n",
       " ('Jefferson Montero', 2.0, 31.0, 0.0, 0.0, 0.0, 0.0, 3.0),\n",
       " ('Barri', 2.0, 0.0, 0.0, 0.0, 0.0, 0.0, 0.0),\n",
       " ('Carlos Calderon', 2.0, 0.0, 0.0, 0.0, 0.0, 0.0, 0.0),\n",
       " ('Carlos Calderon', 2.0, 0.0, 0.0, 0.0, 0.0, 0.0, 0.0),\n",
       " ('Carlos Calderon', 2.0, 0.0, 0.0, 0.0, 0.0, 0.0, 0.0),\n",
       " ('Gustavo Quezada', 2.5, 0.0, 0.0, 0.0, 0.0, 0.0, 0.0),\n",
       " ('Jorge Molina', 7.5, 1471.0, 17.0, 2.0, 2.0, 0.0, 57.0),\n",
       " ('Amath Ndiaye', 6.5, 1348.0, 17.0, 2.0, 0.0, 0.0, 46.0),\n",
       " ('Angel Rodriguez', 5.0, 802.0, 9.0, 6.0, 0.0, 0.0, 49.0),\n",
       " ('Alvaro Jimenez', 2.0, 510.0, 5.0, 1.0, 1.0, 0.0, 20.0),\n",
       " ('Daniel Pacheco', 2.0, 24.0, 0.0, 0.0, 0.0, 0.0, 2.0),\n",
       " ('Hugo Duro', 2.0, 0.0, 0.0, 0.0, 0.0, 0.0, 0.0)]"
      ]
     },
     "execution_count": 198,
     "metadata": {},
     "output_type": "execute_result"
    }
   ],
   "source": [
    "url = 'https://www.fantasy-liga.com/en/team-profile/Getafe/9'\n",
    "r = requests.get(url)\n",
    "soup = BeautifulSoup(r.text,'html.parser')\n",
    "res = soup.find_all('table',attrs={'class':'tablesorter'})\n",
    "fr = res[0]\n",
    "results = fr.find_all('tr')\n",
    "results = results[1:]\n",
    "records = []\n",
    "for r in results:\n",
    "    name = r.select('td')[3].text\n",
    "    val = float(r.select('td')[4].text)\n",
    "    mins = float(r.select('td')[5].text)\n",
    "    starts = float(r.select('td')[6].text)\n",
    "    goals = float(r.select('td')[8].text)\n",
    "    assists = float(r.select('td')[13].text)\n",
    "    clean_sheet = float(r.select('td')[17].text)\n",
    "    points = float(r.select('td')[18].text)\n",
    "    records.append((name,val,mins,starts,goals,assists,clean_sheet,points))\n",
    "    \n",
    "records"
   ]
  },
  {
   "cell_type": "code",
   "execution_count": 200,
   "metadata": {},
   "outputs": [],
   "source": [
    "df = pd.DataFrame(records,columns=['DecodedName','FantasyLeagueVal','C_Mins','C_Apps','C_Goals','C_Assists','C_Clean_Sheets','FantasyLeaguePoints'])\n"
   ]
  },
  {
   "cell_type": "code",
   "execution_count": 201,
   "metadata": {
    "collapsed": true
   },
   "outputs": [],
   "source": [
    "df.to_csv('getafe.csv',index=False)"
   ]
  },
  {
   "cell_type": "code",
   "execution_count": 202,
   "metadata": {},
   "outputs": [
    {
     "data": {
      "text/plain": [
       "[('Ivan Cuellar', 7.5, 1530.0, 17.0, 0.0, 0.0, 10.0, 77.0),\n",
       " ('Jon Serantes', 2.0, 0.0, 0.0, 0.0, 0.0, 0.0, 0.0),\n",
       " ('Nereo Champagne', 2.0, 0.0, 0.0, 0.0, 0.0, 0.0, 0.0),\n",
       " ('Joseba Zaldua', 6.0, 1215.0, 14.0, 0.0, 0.0, 10.0, 58.0),\n",
       " ('Diego Rico', 3.5, 990.0, 11.0, 1.0, 0.0, 6.0, 45.0),\n",
       " ('Dimitrios Siovas', 3.0, 857.0, 10.0, 0.0, 1.0, 5.0, 35.0),\n",
       " ('Mauro Dos Santos', 2.0, 776.0, 7.0, 0.0, 0.0, 7.0, 39.0),\n",
       " ('Raul Garcia', 3.0, 739.0, 8.0, 0.0, 0.0, 4.0, 33.0),\n",
       " ('Ezequiel Munoz', 2.5, 688.0, 9.0, 0.0, 0.0, 5.0, 33.0),\n",
       " ('Martin Mantovani', 2.0, 450.0, 5.0, 1.0, 0.0, 3.0, 27.0),\n",
       " ('Unai Bustinza', 2.0, 290.0, 3.0, 0.0, 0.0, 0.0, 9.0),\n",
       " ('Tito', 2.0, 247.0, 2.0, 0.0, 0.0, 0.0, 8.0),\n",
       " ('Daniel Gallardo', 2.5, 0.0, 0.0, 0.0, 0.0, 0.0, 0.0),\n",
       " ('Gabriel Pires', 11.5, 1292.0, 15.0, 4.0, 1.0, 8.0, 66.0),\n",
       " ('Javier Eraso', 6.5, 1221.0, 15.0, 1.0, 2.0, 10.0, 56.0),\n",
       " ('Ruben Perez', 4.5, 1184.0, 14.0, 0.0, 0.0, 10.0, 39.0),\n",
       " ('Alexander Szymanowski', 6.5, 1064.0, 13.0, 1.0, 2.0, 6.0, 50.0),\n",
       " ('Nabil El Zhar', 5.0, 809.0, 7.0, 1.0, 0.0, 6.0, 35.0),\n",
       " ('Darko Brasanac', 2.0, 436.0, 6.0, 0.0, 0.0, 3.0, 17.0),\n",
       " ('Gerard Gumbau', 2.0, 367.0, 3.0, 0.0, 0.0, 3.0, 12.0),\n",
       " ('Omar Ramos', 2.5, 330.0, 4.0, 0.0, 0.0, 3.0, 16.0),\n",
       " ('Claudio Beauvue', 5.0, 943.0, 10.0, 2.0, 0.0, 0.0, 33.0),\n",
       " ('Nordin Amrabat', 3.0, 577.0, 6.0, 0.0, 3.0, 0.0, 26.0),\n",
       " ('Miguel Angel Guerrero', 2.5, 476.0, 5.0, 1.0, 0.0, 0.0, 14.0),\n",
       " ('Naranjo', 2.0, 124.0, 1.0, 0.0, 0.0, 0.0, 5.0),\n",
       " ('Mamadou Kone', 2.0, 0.0, 0.0, 0.0, 0.0, 0.0, 0.0),\n",
       " ('Leonardo Rocha', 2.0, 0.0, 0.0, 0.0, 0.0, 0.0, 0.0)]"
      ]
     },
     "execution_count": 202,
     "metadata": {},
     "output_type": "execute_result"
    }
   ],
   "source": [
    "url = 'https://www.fantasy-liga.com/en/team-profile/Leganes/12'\n",
    "r = requests.get(url)\n",
    "soup = BeautifulSoup(r.text,'html.parser')\n",
    "res = soup.find_all('table',attrs={'class':'tablesorter'})\n",
    "fr = res[0]\n",
    "results = fr.find_all('tr')\n",
    "results = results[1:]\n",
    "records = []\n",
    "for r in results:\n",
    "    name = r.select('td')[3].text\n",
    "    val = float(r.select('td')[4].text)\n",
    "    mins = float(r.select('td')[5].text)\n",
    "    starts = float(r.select('td')[6].text)\n",
    "    goals = float(r.select('td')[8].text)\n",
    "    assists = float(r.select('td')[13].text)\n",
    "    clean_sheet = float(r.select('td')[17].text)\n",
    "    points = float(r.select('td')[18].text)\n",
    "    records.append((name,val,mins,starts,goals,assists,clean_sheet,points))\n",
    "    \n",
    "records"
   ]
  },
  {
   "cell_type": "code",
   "execution_count": 204,
   "metadata": {
    "collapsed": true
   },
   "outputs": [],
   "source": [
    "df = pd.DataFrame(records,columns=['DecodedName','FantasyLeagueVal','C_Mins','C_Apps','C_Goals','C_Assists','C_Clean_Sheets','FantasyLeaguePoints'])"
   ]
  },
  {
   "cell_type": "code",
   "execution_count": 205,
   "metadata": {
    "collapsed": true
   },
   "outputs": [],
   "source": [
    "df.to_csv('leganes.csv',index=False)"
   ]
  },
  {
   "cell_type": "code",
   "execution_count": 206,
   "metadata": {},
   "outputs": [
    {
     "data": {
      "text/plain": [
       "[('Fernando Pacheco', 10.5, 1530.0, 17.0, 0.0, 0.0, 4.0, 50.0),\n",
       " ('Antonio Sivera', 2.0, 0.0, 0.0, 0.0, 0.0, 0.0, 0.0),\n",
       " ('Ioritz Landeta', 2.0, 0.0, 0.0, 0.0, 0.0, 0.0, 0.0),\n",
       " ('Alexis Ruano', 5.0, 1313.0, 15.0, 1.0, 0.0, 4.0, 45.0),\n",
       " ('Rodrigo Ely', 3.5, 1170.0, 13.0, 0.0, 0.0, 2.0, 27.0),\n",
       " ('Guillermo Maripan', 3.5, 976.0, 11.0, 0.0, 0.0, 4.0, 37.0),\n",
       " ('Carlos Vigaray', 2.0, 893.0, 9.0, 0.0, 0.0, 0.0, 13.0),\n",
       " ('Ruben Duarte', 3.0, 810.0, 9.0, 0.0, 2.0, 3.0, 34.0),\n",
       " ('Martin Aguirregabiria', 4.5, 270.0, 3.0, 0.0, 0.0, 2.0, 13.0),\n",
       " ('Adrian Dieguez', 2.0, 225.0, 3.0, 0.0, 0.0, 1.0, 6.0),\n",
       " ('Hector Hernandez', 2.0, 15.0, 0.0, 0.0, 0.0, 0.0, 1.0),\n",
       " ('Einar Galilea', 2.0, 0.0, 0.0, 0.0, 0.0, 0.0, 0.0),\n",
       " ('Victor Laguardia', 2.0, 0.0, 0.0, 0.0, 0.0, 0.0, 0.0),\n",
       " ('Manu Garcia', 5.0, 1256.0, 14.0, 1.0, 0.0, 4.0, 33.0),\n",
       " ('Alfonso Pedraza', 6.0, 1225.0, 13.0, 0.0, 2.0, 4.0, 40.0),\n",
       " ('Ibai Gomez', 8.5, 997.0, 12.0, 3.0, 2.0, 3.0, 56.0),\n",
       " ('Tomas Pina', 3.0, 861.0, 11.0, 0.0, 0.0, 3.0, 28.0),\n",
       " ('Alvaro Medran', 2.5, 826.0, 9.0, 1.0, 0.0, 2.0, 29.0),\n",
       " ('Mubarak Wakaso', 2.0, 673.0, 8.0, 0.0, 0.0, 1.0, 17.0),\n",
       " ('Burgui', 4.0, 598.0, 7.0, 1.0, 0.0, 2.0, 27.0),\n",
       " ('Daniel Torres', 2.0, 542.0, 6.0, 0.0, 0.0, 1.0, 15.0),\n",
       " ('Aleksandar Katai', 2.0, 52.0, 0.0, 0.0, 0.0, 0.0, 3.0),\n",
       " ('Victor Lopez', 2.5, 0.0, 0.0, 0.0, 0.0, 0.0, 0.0),\n",
       " ('Munir El Haddadi', 8.5, 1164.0, 13.0, 3.0, 3.0, 0.0, 51.0),\n",
       " ('Christian Santos', 2.0, 472.0, 5.0, 2.0, 0.0, 0.0, 18.0),\n",
       " ('Bojan', 2.0, 332.0, 3.0, 0.0, 0.0, 0.0, 13.0),\n",
       " ('Ruben Sobrino', 2.0, 294.0, 3.0, 0.0, 0.0, 0.0, 11.0),\n",
       " ('John Guidetti', 2.0, 107.0, 0.0, 0.0, 0.0, 0.0, 8.0),\n",
       " ('Ermedin Demirovic', 2.0, 0.0, 0.0, 0.0, 0.0, 0.0, 0.0)]"
      ]
     },
     "execution_count": 206,
     "metadata": {},
     "output_type": "execute_result"
    }
   ],
   "source": [
    "url = 'https://www.fantasy-liga.com/en/team-profile/Alaves/1'\n",
    "r = requests.get(url)\n",
    "soup = BeautifulSoup(r.text,'html.parser')\n",
    "res = soup.find_all('table',attrs={'class':'tablesorter'})\n",
    "fr = res[0]\n",
    "results = fr.find_all('tr')\n",
    "results = results[1:]\n",
    "records = []\n",
    "for r in results:\n",
    "    name = r.select('td')[3].text\n",
    "    val = float(r.select('td')[4].text)\n",
    "    mins = float(r.select('td')[5].text)\n",
    "    starts = float(r.select('td')[6].text)\n",
    "    goals = float(r.select('td')[8].text)\n",
    "    assists = float(r.select('td')[13].text)\n",
    "    clean_sheet = float(r.select('td')[17].text)\n",
    "    points = float(r.select('td')[18].text)\n",
    "    records.append((name,val,mins,starts,goals,assists,clean_sheet,points))\n",
    "    \n",
    "records"
   ]
  },
  {
   "cell_type": "code",
   "execution_count": 207,
   "metadata": {
    "collapsed": true
   },
   "outputs": [],
   "source": [
    "df = pd.DataFrame(records,columns=['DecodedName','FantasyLeagueVal','C_Mins','C_Apps','C_Goals','C_Assists','C_Clean_Sheets','FantasyLeaguePoints'])"
   ]
  },
  {
   "cell_type": "code",
   "execution_count": 208,
   "metadata": {
    "collapsed": true
   },
   "outputs": [],
   "source": [
    "df.to_csv('alaves',index=False)"
   ]
  },
  {
   "cell_type": "code",
   "execution_count": 209,
   "metadata": {},
   "outputs": [
    {
     "data": {
      "text/plain": [
       "[('Bono', 2.0, 810.0, 9.0, 0.0, 0.0, 1.0, 22.0),\n",
       " ('Gorka Iraizoz', 2.0, 720.0, 8.0, 0.0, 0.0, 2.0, 17.0),\n",
       " ('Pablo Maffeo', 5.5, 1348.0, 16.0, 0.0, 1.0, 3.0, 42.0),\n",
       " ('Juanpe', 6.0, 1264.0, 14.0, 2.0, 1.0, 2.0, 47.0),\n",
       " ('Bernardo Espinosa', 5.0, 1243.0, 14.0, 0.0, 2.0, 1.0, 33.0),\n",
       " ('Marc Muniesa', 2.0, 870.0, 10.0, 0.0, 1.0, 2.0, 29.0),\n",
       " ('Johan Mojica', 3.5, 800.0, 8.0, 0.0, 2.0, 2.0, 29.0),\n",
       " ('Jonas Ramalho', 2.0, 677.0, 7.0, 0.0, 0.0, 1.0, 14.0),\n",
       " ('Pedro Alcala', 2.0, 450.0, 5.0, 1.0, 0.0, 2.0, 20.0),\n",
       " ('Carles Planas', 2.0, 19.0, 0.0, 0.0, 0.0, 0.0, 1.0),\n",
       " ('Maximiliano Villa', 2.0, 0.0, 0.0, 0.0, 0.0, 0.0, 0.0),\n",
       " ('Portu', 8.5, 1346.0, 16.0, 6.0, 1.0, 2.0, 72.0),\n",
       " ('Borja Garcia', 6.5, 1267.0, 15.0, 1.0, 2.0, 3.0, 51.0),\n",
       " ('Pere Pons', 4.5, 1219.0, 14.0, 0.0, 1.0, 3.0, 34.0),\n",
       " ('Alex Granell', 4.0, 1161.0, 14.0, 0.0, 2.0, 4.0, 36.0),\n",
       " ('Aday Benitez', 4.0, 869.0, 10.0, 0.0, 0.0, 1.0, 26.0),\n",
       " ('David Timor', 2.5, 451.0, 5.0, 2.0, 0.0, 1.0, 22.0),\n",
       " ('Aleix Garcia', 2.0, 380.0, 4.0, 0.0, 0.0, 0.0, 12.0),\n",
       " ('Douglas Luiz', 2.0, 259.0, 1.0, 0.0, 0.0, 0.0, 9.0),\n",
       " ('Eloi Amagat', 2.0, 0.0, 0.0, 0.0, 0.0, 0.0, 0.0),\n",
       " ('Farid Boulaya', 2.0, 0.0, 0.0, 0.0, 0.0, 0.0, 0.0),\n",
       " ('Pedro Porro', 2.0, 0.0, 0.0, 0.0, 0.0, 0.0, 0.0),\n",
       " ('Cristhian Stuani', 6.5, 1287.0, 15.0, 8.0, 0.0, 0.0, 60.0),\n",
       " ('Olarenwaju Kayode', 2.0, 360.0, 2.0, 0.0, 1.0, 0.0, 15.0),\n",
       " ('Michael Olunga', 2.0, 92.0, 1.0, 0.0, 0.0, 0.0, 5.0),\n",
       " ('Marlos Moreno', 2.0, 28.0, 0.0, 0.0, 0.0, 0.0, 2.0)]"
      ]
     },
     "execution_count": 209,
     "metadata": {},
     "output_type": "execute_result"
    }
   ],
   "source": [
    "url = 'https://www.fantasy-liga.com/en/team-profile/Girona/10'\n",
    "r = requests.get(url)\n",
    "soup = BeautifulSoup(r.text,'html.parser')\n",
    "res = soup.find_all('table',attrs={'class':'tablesorter'})\n",
    "fr = res[0]\n",
    "results = fr.find_all('tr')\n",
    "results = results[1:]\n",
    "records = []\n",
    "for r in results:\n",
    "    name = r.select('td')[3].text\n",
    "    val = float(r.select('td')[4].text)\n",
    "    mins = float(r.select('td')[5].text)\n",
    "    starts = float(r.select('td')[6].text)\n",
    "    goals = float(r.select('td')[8].text)\n",
    "    assists = float(r.select('td')[13].text)\n",
    "    clean_sheet = float(r.select('td')[17].text)\n",
    "    points = float(r.select('td')[18].text)\n",
    "    records.append((name,val,mins,starts,goals,assists,clean_sheet,points))\n",
    "    \n",
    "records"
   ]
  },
  {
   "cell_type": "code",
   "execution_count": 210,
   "metadata": {
    "collapsed": true
   },
   "outputs": [],
   "source": [
    "df = pd.DataFrame(records,columns=['DecodedName','FantasyLeagueVal','C_Mins','C_Apps','C_Goals','C_Assists','C_Clean_Sheets','FantasyLeaguePoints'])"
   ]
  },
  {
   "cell_type": "code",
   "execution_count": 211,
   "metadata": {
    "collapsed": true
   },
   "outputs": [],
   "source": [
    "df.to_csv('girona.csv',index=False)"
   ]
  },
  {
   "cell_type": "code",
   "execution_count": 212,
   "metadata": {},
   "outputs": [
    {
     "data": {
      "text/plain": [
       "[('Roberto Jimenez', 3.5, 1440.0, 16.0, 0.0, 0.0, 2.0, 35.0),\n",
       " ('Andres Prieto', 2.0, 90.0, 1.0, 0.0, 0.0, 0.0, 2.0),\n",
       " ('Cenk Gonen', 2.0, 0.0, 0.0, 0.0, 0.0, 0.0, 0.0),\n",
       " ('Luis Hernandez', 8.0, 1440.0, 16.0, 0.0, 0.0, 2.0, 32.0),\n",
       " ('Roberto Rosales', 8.0, 1415.0, 16.0, 1.0, 0.0, 2.0, 39.0),\n",
       " ('Juan Carlos Perez', 2.0, 784.0, 9.0, 0.0, 0.0, 0.0, 20.0),\n",
       " ('Diego Gonzalez', 2.5, 726.0, 9.0, 1.0, 0.0, 2.0, 26.0),\n",
       " ('Federico Ricca', 2.0, 398.0, 5.0, 0.0, 0.0, 0.0, 6.0),\n",
       " ('Ignasi Miquel', 3.5, 180.0, 2.0, 0.0, 0.0, 0.0, 3.0),\n",
       " ('Cifu', 2.0, 107.0, 1.0, 0.0, 0.0, 0.0, 2.0),\n",
       " ('Miguel Torres', 2.0, 90.0, 1.0, 0.0, 0.0, 0.0, 2.0),\n",
       " ('Alejandro Robles', 2.0, 0.0, 0.0, 0.0, 0.0, 0.0, 0.0),\n",
       " ('Ian Pino', 2.0, 0.0, 0.0, 0.0, 0.0, 0.0, 0.0),\n",
       " ('Recio', 4.0, 1343.0, 15.0, 0.0, 1.0, 2.0, 30.0),\n",
       " ('Adrian Gonzalez', 4.0, 1192.0, 14.0, 1.0, 0.0, 2.0, 31.0),\n",
       " ('Gonzalo Castro', 4.0, 822.0, 10.0, 3.0, 1.0, 2.0, 40.0),\n",
       " ('Keko', 2.5, 684.0, 9.0, 0.0, 2.0, 2.0, 30.0),\n",
       " ('Zdravko Kuzmanovic', 2.0, 580.0, 7.0, 0.0, 1.0, 0.0, 14.0),\n",
       " ('Juanpi', 4.0, 580.0, 5.0, 0.0, 2.0, 0.0, 25.0),\n",
       " ('Alejandro Mula', 2.0, 543.0, 7.0, 0.0, 0.0, 0.0, 15.0),\n",
       " ('Esteban Rolon', 2.0, 422.0, 6.0, 0.0, 0.0, 0.0, 14.0),\n",
       " ('Javier Ontiveros', 2.0, 345.0, 1.0, 0.0, 0.0, 0.0, 9.0),\n",
       " ('Jony', 2.0, 214.0, 1.0, 0.0, 0.0, 0.0, 5.0),\n",
       " ('Jose Carlos Sanchez', 2.0, 0.0, 0.0, 0.0, 0.0, 0.0, 0.0),\n",
       " ('Manuel Iturra', 4.5, 0.0, 0.0, 0.0, 0.0, 0.0, 0.0),\n",
       " ('Diego Rolan', 3.0, 770.0, 9.0, 3.0, 0.0, 0.0, 32.0),\n",
       " ('Adalberto Penaranda', 2.5, 721.0, 10.0, 0.0, 0.0, 0.0, 21.0),\n",
       " ('Borja Baston', 3.0, 703.0, 6.0, 1.0, 0.0, 0.0, 22.0),\n",
       " ('Youssef En-Nesyri', 2.5, 217.0, 1.0, 0.0, 0.0, 0.0, 9.0)]"
      ]
     },
     "execution_count": 212,
     "metadata": {},
     "output_type": "execute_result"
    }
   ],
   "source": [
    "url = 'https://www.fantasy-liga.com/en/team-profile/Malaga/14'\n",
    "r = requests.get(url)\n",
    "soup = BeautifulSoup(r.text,'html.parser')\n",
    "res = soup.find_all('table',attrs={'class':'tablesorter'})\n",
    "fr = res[0]\n",
    "results = fr.find_all('tr')\n",
    "results = results[1:]\n",
    "records = []\n",
    "for r in results:\n",
    "    name = r.select('td')[3].text\n",
    "    val = float(r.select('td')[4].text)\n",
    "    mins = float(r.select('td')[5].text)\n",
    "    starts = float(r.select('td')[6].text)\n",
    "    goals = float(r.select('td')[8].text)\n",
    "    assists = float(r.select('td')[13].text)\n",
    "    clean_sheet = float(r.select('td')[17].text)\n",
    "    points = float(r.select('td')[18].text)\n",
    "    records.append((name,val,mins,starts,goals,assists,clean_sheet,points))\n",
    "    \n",
    "records"
   ]
  },
  {
   "cell_type": "code",
   "execution_count": 213,
   "metadata": {
    "collapsed": true
   },
   "outputs": [],
   "source": [
    "df = pd.DataFrame(records,columns=['DecodedName','FantasyLeagueVal','C_Mins','C_Apps','C_Goals','C_Assists','C_Clean_Sheets','FantasyLeaguePoints'])"
   ]
  },
  {
   "cell_type": "code",
   "execution_count": 214,
   "metadata": {
    "collapsed": true
   },
   "outputs": [],
   "source": [
    "df.to_csv('malaga.csv',index=False)"
   ]
  },
  {
   "cell_type": "code",
   "execution_count": 215,
   "metadata": {},
   "outputs": [
    {
     "data": {
      "text/plain": [
       "[('Raul Fernandez', 2.5, 990.0, 11.0, 0.0, 0.0, 3.0, 34.0),\n",
       " ('Oier Olazabal', 2.0, 540.0, 6.0, 0.0, 0.0, 3.0, 20.0),\n",
       " ('Mitchell Langerak', 2.0, 0.0, 0.0, 0.0, 0.0, 0.0, 0.0),\n",
       " ('Chema Rodriguez', 6.5, 1432.0, 16.0, 1.0, 0.0, 7.0, 56.0),\n",
       " ('Sergio Postigo', 5.0, 1392.0, 16.0, 0.0, 0.0, 6.0, 44.0),\n",
       " ('Tono', 3.5, 1080.0, 12.0, 0.0, 1.0, 4.0, 38.0),\n",
       " ('Pedro Lopez', 2.5, 785.0, 9.0, 0.0, 0.0, 3.0, 27.0),\n",
       " ('Rober Pier', 2.0, 658.0, 6.0, 0.0, 0.0, 2.0, 17.0),\n",
       " ('Antonio Luna', 2.0, 526.0, 5.0, 0.0, 1.0, 2.0, 19.0),\n",
       " ('Shaquell Moore', 2.5, 423.0, 5.0, 0.0, 0.0, 2.0, 16.0),\n",
       " ('Erick Cabaco', 2.0, 183.0, 2.0, 0.0, 0.0, 1.0, 6.0),\n",
       " ('Ivan Lopez', 2.0, 175.0, 3.0, 0.0, 1.0, 1.0, 13.0),\n",
       " ('Coke', 4.5, 0.0, 0.0, 0.0, 0.0, 0.0, 0.0),\n",
       " ('Jose Campana', 5.0, 1342.0, 16.0, 0.0, 0.0, 6.0, 35.0),\n",
       " ('Jose Luis Morales', 5.0, 1237.0, 14.0, 2.0, 2.0, 6.0, 52.0),\n",
       " ('Enis Bardhi', 6.0, 1082.0, 12.0, 4.0, 0.0, 4.0, 50.0),\n",
       " ('Jefferson Lerma', 2.0, 827.0, 10.0, 0.0, 0.0, 3.0, 17.0),\n",
       " ('Cheick Doukoure', 2.0, 392.0, 4.0, 1.0, 0.0, 1.0, 22.0),\n",
       " ('Samu Garcia', 2.0, 183.0, 2.0, 0.0, 0.0, 1.0, 12.0),\n",
       " ('Sasa Lukic', 2.0, 147.0, 2.0, 0.0, 0.0, 1.0, 5.0),\n",
       " ('Moctar Sidi El Hacen', 2.5, 82.0, 1.0, 0.0, 0.0, 1.0, 4.0),\n",
       " ('Youssouf Yalike', 2.5, 0.0, 0.0, 0.0, 0.0, 0.0, 0.0),\n",
       " ('Jason', 3.0, 927.0, 12.0, 1.0, 0.0, 0.0, 30.0),\n",
       " ('Ivi', 5.0, 802.0, 7.0, 1.0, 2.0, 0.0, 35.0),\n",
       " ('Alex Alegria', 2.0, 632.0, 8.0, 0.0, 0.0, 0.0, 18.0),\n",
       " ('Emmanuel Boateng', 2.0, 305.0, 1.0, 0.0, 0.0, 0.0, 7.0),\n",
       " ('Nano Mesa', 2.5, 263.0, 2.0, 0.0, 0.0, 0.0, 8.0),\n",
       " ('Roger Marti', 2.0, 0.0, 0.0, 0.0, 0.0, 0.0, 0.0)]"
      ]
     },
     "execution_count": 215,
     "metadata": {},
     "output_type": "execute_result"
    }
   ],
   "source": [
    "url = 'https://www.fantasy-liga.com/en/team-profile/Levante/13'\n",
    "r = requests.get(url)\n",
    "soup = BeautifulSoup(r.text,'html.parser')\n",
    "res = soup.find_all('table',attrs={'class':'tablesorter'})\n",
    "fr = res[0]\n",
    "results = fr.find_all('tr')\n",
    "results = results[1:]\n",
    "records = []\n",
    "for r in results:\n",
    "    name = r.select('td')[3].text\n",
    "    val = float(r.select('td')[4].text)\n",
    "    mins = float(r.select('td')[5].text)\n",
    "    starts = float(r.select('td')[6].text)\n",
    "    goals = float(r.select('td')[8].text)\n",
    "    assists = float(r.select('td')[13].text)\n",
    "    clean_sheet = float(r.select('td')[17].text)\n",
    "    points = float(r.select('td')[18].text)\n",
    "    records.append((name,val,mins,starts,goals,assists,clean_sheet,points))\n",
    "    \n",
    "records"
   ]
  },
  {
   "cell_type": "code",
   "execution_count": 216,
   "metadata": {
    "collapsed": true
   },
   "outputs": [],
   "source": [
    "df = pd.DataFrame(records,columns=['DecodedName','FantasyLeagueVal','C_Mins','C_Apps','C_Goals','C_Assists','C_Clean_Sheets','FantasyLeaguePoints'])"
   ]
  },
  {
   "cell_type": "code",
   "execution_count": 217,
   "metadata": {
    "collapsed": true
   },
   "outputs": [],
   "source": [
    "df.to_csv('lev.csv',index=False)"
   ]
  },
  {
   "cell_type": "code",
   "execution_count": 218,
   "metadata": {},
   "outputs": [
    {
     "data": {
      "text/plain": [
       "[('Leandro Chichizola', 2.0, 900.0, 10.0, 0.0, 0.0, 1.0, 18.0),\n",
       " ('Raul Lizoain', 2.0, 630.0, 7.0, 0.0, 0.0, 1.0, 15.0),\n",
       " ('Mauricio Lemos', 3.5, 1217.0, 13.0, 0.0, 0.0, 2.0, 25.0),\n",
       " ('Dani Castellano', 4.0, 1170.0, 13.0, 0.0, 2.0, 2.0, 34.0),\n",
       " ('Ximo Navarro', 2.5, 1121.0, 12.0, 0.0, 1.0, 1.0, 24.0),\n",
       " ('Michel Macedo', 3.0, 1064.0, 13.0, 0.0, 0.0, 2.0, 28.0),\n",
       " ('Pedro Bigas', 2.5, 805.0, 10.0, 0.0, 0.0, 1.0, 16.0),\n",
       " ('David Simon', 2.0, 438.0, 4.0, 0.0, 0.0, 0.0, 7.0),\n",
       " ('Alejandro Galvez', 2.0, 360.0, 4.0, 1.0, 0.0, 1.0, 14.0),\n",
       " ('Borja Herrera', 2.0, 242.0, 3.0, 0.0, 0.0, 0.0, 4.0),\n",
       " ('Aythami Artiles', 2.0, 183.0, 2.0, 0.0, 0.0, 0.0, 6.0),\n",
       " ('David Garcia', 2.0, 180.0, 2.0, 0.0, 0.0, 0.0, 2.0),\n",
       " ('Jonathan Viera', 11.3, 1364.0, 16.0, 2.0, 3.0, 2.0, 54.0),\n",
       " ('Alberto Aquilani', 3.0, 809.0, 9.0, 0.0, 0.0, 1.0, 22.0),\n",
       " ('Javi Castellano', 3.0, 796.0, 9.0, 0.0, 0.0, 2.0, 26.0),\n",
       " ('Vicente Gomez', 2.5, 580.0, 6.0, 0.0, 0.0, 1.0, 18.0),\n",
       " ('Hernan Santana', 2.0, 351.0, 4.0, 0.0, 0.0, 0.0, 10.0),\n",
       " ('Momo', 2.0, 232.0, 3.0, 0.0, 1.0, 0.0, 11.0),\n",
       " ('Alen Halilovic', 2.0, 191.0, 3.0, 0.0, 1.0, 0.0, 7.0),\n",
       " ('Sergi Samper', 2.0, 145.0, 2.0, 0.0, 0.0, 0.0, 4.0),\n",
       " ('Fabio Gonzalez', 2.0, 65.0, 1.0, 0.0, 0.0, 0.0, 1.0),\n",
       " ('Benito Ramirez', 2.0, 14.0, 0.0, 0.0, 0.0, 0.0, 1.0),\n",
       " ('Gabriel Penalba', 4.5, 0.0, 0.0, 0.0, 0.0, 0.0, 0.0),\n",
       " ('Jairo Samperio', 4.5, 0.0, 0.0, 0.0, 0.0, 0.0, 0.0),\n",
       " ('Jonathan Calleri', 6.5, 1439.0, 16.0, 3.0, 0.0, 0.0, 47.0),\n",
       " ('Tana', 4.5, 842.0, 9.0, 1.0, 1.0, 0.0, 27.0),\n",
       " ('Loic Remy', 3.5, 671.0, 5.0, 4.0, 0.0, 0.0, 32.0),\n",
       " ('Oussama Tannane', 2.0, 553.0, 7.0, 0.0, 0.0, 0.0, 17.0),\n",
       " ('Hernan Toledo', 2.0, 170.0, 1.0, 0.0, 0.0, 0.0, 6.0)]"
      ]
     },
     "execution_count": 218,
     "metadata": {},
     "output_type": "execute_result"
    }
   ],
   "source": [
    "url = 'https://www.fantasy-liga.com/en/team-profile/Las-Palmas/11'\n",
    "r = requests.get(url)\n",
    "soup = BeautifulSoup(r.text,'html.parser')\n",
    "res = soup.find_all('table',attrs={'class':'tablesorter'})\n",
    "fr = res[0]\n",
    "results = fr.find_all('tr')\n",
    "results = results[1:]\n",
    "records = []\n",
    "for r in results:\n",
    "    name = r.select('td')[3].text\n",
    "    val = float(r.select('td')[4].text)\n",
    "    mins = float(r.select('td')[5].text)\n",
    "    starts = float(r.select('td')[6].text)\n",
    "    goals = float(r.select('td')[8].text)\n",
    "    assists = float(r.select('td')[13].text)\n",
    "    clean_sheet = float(r.select('td')[17].text)\n",
    "    points = float(r.select('td')[18].text)\n",
    "    records.append((name,val,mins,starts,goals,assists,clean_sheet,points))\n",
    "    \n",
    "records"
   ]
  },
  {
   "cell_type": "code",
   "execution_count": 219,
   "metadata": {
    "collapsed": true
   },
   "outputs": [],
   "source": [
    "df = pd.DataFrame(records,columns=['DecodedName','FantasyLeagueVal','C_Mins','C_Apps','C_Goals','C_Assists','C_Clean_Sheets','FantasyLeaguePoints'])"
   ]
  },
  {
   "cell_type": "code",
   "execution_count": 220,
   "metadata": {
    "collapsed": true
   },
   "outputs": [],
   "source": [
    "df.to_csv('LasPalmas.csv',index=False)"
   ]
  },
  {
   "cell_type": "code",
   "execution_count": 222,
   "metadata": {},
   "outputs": [],
   "source": [
    "f = pd.read_csv('final.csv')"
   ]
  },
  {
   "cell_type": "code",
   "execution_count": 223,
   "metadata": {},
   "outputs": [
    {
     "name": "stdout",
     "output_type": "stream",
     "text": [
      "<class 'pandas.core.frame.DataFrame'>\n",
      "RangeIndex: 316 entries, 0 to 315\n",
      "Data columns (total 30 columns):\n",
      "Age                    316 non-null float64\n",
      "Assists                316 non-null float64\n",
      "C_Apps                 316 non-null float64\n",
      "C_Assists              316 non-null float64\n",
      "C_Clean_Sheets         316 non-null float64\n",
      "C_Goals                316 non-null float64\n",
      "C_Mins                 316 non-null float64\n",
      "Clean Sheets           20 non-null float64\n",
      "Club                   316 non-null object\n",
      "Club_Appearances       316 non-null float64\n",
      "Country                316 non-null object\n",
      "Current_Value          316 non-null object\n",
      "F_Def                  316 non-null float64\n",
      "F_Drib                 316 non-null float64\n",
      "F_Pace                 316 non-null float64\n",
      "F_Passing              316 non-null float64\n",
      "F_Phy                  316 non-null float64\n",
      "F_Rating               316 non-null float64\n",
      "F_Shooting             316 non-null float64\n",
      "F_WRate                316 non-null object\n",
      "FantasyLeaguePoints    316 non-null float64\n",
      "FantasyLeagueVal       316 non-null float64\n",
      "Goals                  316 non-null float64\n",
      "Goals_per_game         316 non-null object\n",
      "Mins_per_goal          231 non-null float64\n",
      "Minutes_played_club    316 non-null float64\n",
      "Name                   316 non-null object\n",
      "Position               316 non-null object\n",
      "Previous_Value         316 non-null object\n",
      "Wiki_Views             268 non-null object\n",
      "dtypes: float64(21), object(9)\n",
      "memory usage: 74.1+ KB\n"
     ]
    }
   ],
   "source": [
    "f.info()"
   ]
  },
  {
   "cell_type": "code",
   "execution_count": null,
   "metadata": {
    "collapsed": true
   },
   "outputs": [],
   "source": []
  }
 ],
 "metadata": {
  "kernelspec": {
   "display_name": "Python 3",
   "language": "python",
   "name": "python3"
  },
  "language_info": {
   "codemirror_mode": {
    "name": "ipython",
    "version": 3
   },
   "file_extension": ".py",
   "mimetype": "text/x-python",
   "name": "python",
   "nbconvert_exporter": "python",
   "pygments_lexer": "ipython3",
   "version": "3.6.1"
  }
 },
 "nbformat": 4,
 "nbformat_minor": 2
}
